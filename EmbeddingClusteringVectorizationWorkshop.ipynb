{
  "cells": [
    {
      "cell_type": "markdown",
      "metadata": {
        "id": "yKzD5ZPnDEz_"
      },
      "source": [
        "#  NLP Word and Sentence Embedding Pipeline with Word2Vec & GloVe\n",
        "\n",
        "This notebook demonstrates a basic natural language processing pipeline:\n",
        "\n",
        "- Tokenizing and preprocessing text\n",
        "- Training Word2Vec on a custom corpus\n",
        "- Using pretrained GloVe vectors\n",
        "- Averaging word vectors to get sentence vectors\n",
        "- Visualizing with PCA\n",
        "- (Later) Performing similarity search using cosine similarity\n",
        "\n",
        ">  This is ideal for small-scale semantic search and educational use cases.\n"
      ]
    },
    {
      "cell_type": "markdown",
      "metadata": {
        "id": "6zzrod_KDLDW"
      },
      "source": [
        "## Step 1: Import Required Libraries\n"
      ]
    },
    {
      "cell_type": "code",
      "execution_count": 1,
      "metadata": {
        "colab": {
          "base_uri": "https://localhost:8080/",
          "height": 740
        },
        "id": "Ycv1V_zC1mw5",
        "outputId": "d415aa85-ee38-4bb7-f4af-65fb16ca5e4a"
      },
      "outputs": [
        {
          "name": "stdout",
          "output_type": "stream",
          "text": [
            "Collecting scipy==1.9.3\n",
            "  Using cached scipy-1.9.3-cp311-cp311-manylinux_2_17_x86_64.manylinux2014_x86_64.whl.metadata (58 kB)\n",
            "Collecting numpy<1.26.0,>=1.18.5 (from scipy==1.9.3)\n",
            "  Using cached numpy-1.25.2-cp311-cp311-manylinux_2_17_x86_64.manylinux2014_x86_64.whl.metadata (5.6 kB)\n",
            "Using cached scipy-1.9.3-cp311-cp311-manylinux_2_17_x86_64.manylinux2014_x86_64.whl (33.4 MB)\n",
            "Using cached numpy-1.25.2-cp311-cp311-manylinux_2_17_x86_64.manylinux2014_x86_64.whl (18.2 MB)\n",
            "Installing collected packages: numpy, scipy\n",
            "  Attempting uninstall: numpy\n",
            "    Found existing installation: numpy 1.25.2\n",
            "    Uninstalling numpy-1.25.2:\n",
            "      Successfully uninstalled numpy-1.25.2\n",
            "  Attempting uninstall: scipy\n",
            "    Found existing installation: scipy 1.9.3\n",
            "    Uninstalling scipy-1.9.3:\n",
            "      Successfully uninstalled scipy-1.9.3\n",
            "\u001b[31mERROR: pip's dependency resolver does not currently take into account all the packages that are installed. This behaviour is the source of the following dependency conflicts.\n",
            "jaxlib 0.5.1 requires scipy>=1.11.1, but you have scipy 1.9.3 which is incompatible.\n",
            "arviz 0.22.0 requires numpy>=1.26.0, but you have numpy 1.25.2 which is incompatible.\n",
            "arviz 0.22.0 requires scipy>=1.11.0, but you have scipy 1.9.3 which is incompatible.\n",
            "jax 0.5.2 requires scipy>=1.11.1, but you have scipy 1.9.3 which is incompatible.\n",
            "opencv-python 4.12.0.88 requires numpy<2.3.0,>=2; python_version >= \"3.9\", but you have numpy 1.25.2 which is incompatible.\n",
            "scikit-image 0.25.2 requires scipy>=1.11.4, but you have scipy 1.9.3 which is incompatible.\n",
            "opencv-python-headless 4.12.0.88 requires numpy<2.3.0,>=2; python_version >= \"3.9\", but you have numpy 1.25.2 which is incompatible.\n",
            "cvxpy 1.6.7 requires scipy>=1.11.0, but you have scipy 1.9.3 which is incompatible.\n",
            "opencv-contrib-python 4.12.0.88 requires numpy<2.3.0,>=2; python_version >= \"3.9\", but you have numpy 1.25.2 which is incompatible.\n",
            "tensorflow 2.18.0 requires numpy<2.1.0,>=1.26.0, but you have numpy 1.25.2 which is incompatible.\n",
            "stumpy 1.13.0 requires scipy>=1.10, but you have scipy 1.9.3 which is incompatible.\n",
            "tsfresh 0.21.0 requires scipy>=1.14.0; python_version >= \"3.10\", but you have scipy 1.9.3 which is incompatible.\n",
            "thinc 8.3.6 requires numpy<3.0.0,>=2.0.0, but you have numpy 1.25.2 which is incompatible.\n",
            "xarray 2025.7.1 requires numpy>=1.26, but you have numpy 1.25.2 which is incompatible.\n",
            "imbalanced-learn 0.13.0 requires scipy<2,>=1.10.1, but you have scipy 1.9.3 which is incompatible.\n",
            "xarray-einstats 0.9.1 requires scipy>=1.11, but you have scipy 1.9.3 which is incompatible.\n",
            "blosc2 3.6.1 requires numpy>=1.26, but you have numpy 1.25.2 which is incompatible.\n",
            "albumentations 2.0.8 requires scipy>=1.10.0, but you have scipy 1.9.3 which is incompatible.\u001b[0m\u001b[31m\n",
            "\u001b[0mSuccessfully installed numpy-1.25.2 scipy-1.9.3\n"
          ]
        },
        {
          "data": {
            "application/vnd.colab-display-data+json": {
              "id": "bac956f42890410886fa95445c12f2fd",
              "pip_warning": {
                "packages": [
                  "numpy"
                ]
              }
            }
          },
          "metadata": {},
          "output_type": "display_data"
        }
      ],
      "source": [
        "!pip install scipy==1.9.3 --force-reinstall\n"
      ]
    },
    {
      "cell_type": "markdown",
      "metadata": {
        "id": "5UIwEniFDP-4"
      },
      "source": [
        "## Step 2: Download NLTK Tokenizer Data\n",
        "\n",
        "We download the 'punkt' tokenizer locally to avoid dependency on global system paths and ensure reproducibility across environments.\n"
      ]
    },
    {
      "cell_type": "code",
      "execution_count": 2,
      "metadata": {
        "colab": {
          "base_uri": "https://localhost:8080/"
        },
        "id": "tbbvmDFsNbOC",
        "outputId": "b8bdc2ea-c897-47d4-9313-d8af6e79524c"
      },
      "outputs": [
        {
          "name": "stdout",
          "output_type": "stream",
          "text": [
            "Requirement already satisfied: absl-py==1.4.0 in /usr/local/lib/python3.11/dist-packages (from -r requirements.txt (line 1)) (1.4.0)\n",
            "Requirement already satisfied: accelerate==1.9.0 in /usr/local/lib/python3.11/dist-packages (from -r requirements.txt (line 2)) (1.9.0)\n",
            "Requirement already satisfied: aiofiles==24.1.0 in /usr/local/lib/python3.11/dist-packages (from -r requirements.txt (line 3)) (24.1.0)\n",
            "Requirement already satisfied: aiohappyeyeballs==2.6.1 in /usr/local/lib/python3.11/dist-packages (from -r requirements.txt (line 4)) (2.6.1)\n",
            "Requirement already satisfied: aiohttp==3.12.14 in /usr/local/lib/python3.11/dist-packages (from -r requirements.txt (line 5)) (3.12.14)\n",
            "Requirement already satisfied: aiosignal==1.4.0 in /usr/local/lib/python3.11/dist-packages (from -r requirements.txt (line 6)) (1.4.0)\n",
            "Requirement already satisfied: alabaster==1.0.0 in /usr/local/lib/python3.11/dist-packages (from -r requirements.txt (line 7)) (1.0.0)\n",
            "Requirement already satisfied: albucore==0.0.24 in /usr/local/lib/python3.11/dist-packages (from -r requirements.txt (line 8)) (0.0.24)\n",
            "Requirement already satisfied: albumentations==2.0.8 in /usr/local/lib/python3.11/dist-packages (from -r requirements.txt (line 9)) (2.0.8)\n",
            "Requirement already satisfied: ale-py==0.11.2 in /usr/local/lib/python3.11/dist-packages (from -r requirements.txt (line 10)) (0.11.2)\n",
            "Requirement already satisfied: altair==5.5.0 in /usr/local/lib/python3.11/dist-packages (from -r requirements.txt (line 11)) (5.5.0)\n",
            "Requirement already satisfied: annotated-types==0.7.0 in /usr/local/lib/python3.11/dist-packages (from -r requirements.txt (line 12)) (0.7.0)\n",
            "Requirement already satisfied: antlr4-python3-runtime==4.9.3 in /usr/local/lib/python3.11/dist-packages (from -r requirements.txt (line 13)) (4.9.3)\n",
            "Requirement already satisfied: anyio==4.9.0 in /usr/local/lib/python3.11/dist-packages (from -r requirements.txt (line 14)) (4.9.0)\n",
            "Requirement already satisfied: anywidget==0.9.18 in /usr/local/lib/python3.11/dist-packages (from -r requirements.txt (line 15)) (0.9.18)\n",
            "Requirement already satisfied: argon2-cffi==25.1.0 in /usr/local/lib/python3.11/dist-packages (from -r requirements.txt (line 16)) (25.1.0)\n",
            "Requirement already satisfied: argon2-cffi-bindings==21.2.0 in /usr/local/lib/python3.11/dist-packages (from -r requirements.txt (line 17)) (21.2.0)\n",
            "Requirement already satisfied: array_record==0.7.2 in /usr/local/lib/python3.11/dist-packages (from -r requirements.txt (line 18)) (0.7.2)\n",
            "Requirement already satisfied: arviz==0.22.0 in /usr/local/lib/python3.11/dist-packages (from -r requirements.txt (line 19)) (0.22.0)\n",
            "Requirement already satisfied: astropy==7.1.0 in /usr/local/lib/python3.11/dist-packages (from -r requirements.txt (line 20)) (7.1.0)\n",
            "Requirement already satisfied: astropy-iers-data==0.2025.7.21.0.41.39 in /usr/local/lib/python3.11/dist-packages (from -r requirements.txt (line 21)) (0.2025.7.21.0.41.39)\n",
            "Requirement already satisfied: astunparse==1.6.3 in /usr/local/lib/python3.11/dist-packages (from -r requirements.txt (line 22)) (1.6.3)\n",
            "Requirement already satisfied: atpublic==5.1 in /usr/local/lib/python3.11/dist-packages (from -r requirements.txt (line 23)) (5.1)\n",
            "Requirement already satisfied: attrs==25.3.0 in /usr/local/lib/python3.11/dist-packages (from -r requirements.txt (line 24)) (25.3.0)\n",
            "Requirement already satisfied: audioread==3.0.1 in /usr/local/lib/python3.11/dist-packages (from -r requirements.txt (line 25)) (3.0.1)\n",
            "Requirement already satisfied: autograd==1.8.0 in /usr/local/lib/python3.11/dist-packages (from -r requirements.txt (line 26)) (1.8.0)\n",
            "Requirement already satisfied: babel==2.17.0 in /usr/local/lib/python3.11/dist-packages (from -r requirements.txt (line 27)) (2.17.0)\n",
            "Requirement already satisfied: backcall==0.2.0 in /usr/local/lib/python3.11/dist-packages (from -r requirements.txt (line 28)) (0.2.0)\n",
            "Requirement already satisfied: backports.tarfile==1.2.0 in /usr/local/lib/python3.11/dist-packages (from -r requirements.txt (line 29)) (1.2.0)\n",
            "Requirement already satisfied: beautifulsoup4==4.13.4 in /usr/local/lib/python3.11/dist-packages (from -r requirements.txt (line 30)) (4.13.4)\n",
            "Requirement already satisfied: betterproto==2.0.0b6 in /usr/local/lib/python3.11/dist-packages (from -r requirements.txt (line 31)) (2.0.0b6)\n",
            "Requirement already satisfied: bigframes==2.12.0 in /usr/local/lib/python3.11/dist-packages (from -r requirements.txt (line 32)) (2.12.0)\n",
            "Requirement already satisfied: bigquery-magics==0.10.1 in /usr/local/lib/python3.11/dist-packages (from -r requirements.txt (line 33)) (0.10.1)\n",
            "Requirement already satisfied: bleach==6.2.0 in /usr/local/lib/python3.11/dist-packages (from -r requirements.txt (line 34)) (6.2.0)\n",
            "Requirement already satisfied: blinker==1.9.0 in /usr/local/lib/python3.11/dist-packages (from -r requirements.txt (line 35)) (1.9.0)\n",
            "Requirement already satisfied: blis==1.3.0 in /usr/local/lib/python3.11/dist-packages (from -r requirements.txt (line 36)) (1.3.0)\n",
            "Requirement already satisfied: blobfile==3.0.0 in /usr/local/lib/python3.11/dist-packages (from -r requirements.txt (line 37)) (3.0.0)\n",
            "Requirement already satisfied: blosc2==3.6.1 in /usr/local/lib/python3.11/dist-packages (from -r requirements.txt (line 38)) (3.6.1)\n",
            "Requirement already satisfied: bokeh==3.7.3 in /usr/local/lib/python3.11/dist-packages (from -r requirements.txt (line 39)) (3.7.3)\n",
            "Requirement already satisfied: Bottleneck==1.4.2 in /usr/local/lib/python3.11/dist-packages (from -r requirements.txt (line 40)) (1.4.2)\n",
            "Requirement already satisfied: bqplot==0.12.45 in /usr/local/lib/python3.11/dist-packages (from -r requirements.txt (line 41)) (0.12.45)\n",
            "Requirement already satisfied: branca==0.8.1 in /usr/local/lib/python3.11/dist-packages (from -r requirements.txt (line 42)) (0.8.1)\n",
            "Requirement already satisfied: Brotli==1.1.0 in /usr/local/lib/python3.11/dist-packages (from -r requirements.txt (line 43)) (1.1.0)\n",
            "Requirement already satisfied: build==1.2.2.post1 in /usr/local/lib/python3.11/dist-packages (from -r requirements.txt (line 44)) (1.2.2.post1)\n",
            "Requirement already satisfied: CacheControl==0.14.3 in /usr/local/lib/python3.11/dist-packages (from -r requirements.txt (line 45)) (0.14.3)\n",
            "Requirement already satisfied: cachetools==5.5.2 in /usr/local/lib/python3.11/dist-packages (from -r requirements.txt (line 46)) (5.5.2)\n",
            "Requirement already satisfied: catalogue==2.0.10 in /usr/local/lib/python3.11/dist-packages (from -r requirements.txt (line 47)) (2.0.10)\n",
            "Requirement already satisfied: certifi==2025.7.14 in /usr/local/lib/python3.11/dist-packages (from -r requirements.txt (line 48)) (2025.7.14)\n",
            "Requirement already satisfied: cffi==1.17.1 in /usr/local/lib/python3.11/dist-packages (from -r requirements.txt (line 49)) (1.17.1)\n",
            "Requirement already satisfied: chardet==5.2.0 in /usr/local/lib/python3.11/dist-packages (from -r requirements.txt (line 50)) (5.2.0)\n",
            "Requirement already satisfied: charset-normalizer==3.4.2 in /usr/local/lib/python3.11/dist-packages (from -r requirements.txt (line 51)) (3.4.2)\n",
            "Requirement already satisfied: chex==0.1.90 in /usr/local/lib/python3.11/dist-packages (from -r requirements.txt (line 52)) (0.1.90)\n",
            "Requirement already satisfied: clarabel==0.11.1 in /usr/local/lib/python3.11/dist-packages (from -r requirements.txt (line 53)) (0.11.1)\n",
            "Requirement already satisfied: click==8.2.1 in /usr/local/lib/python3.11/dist-packages (from -r requirements.txt (line 54)) (8.2.1)\n",
            "Requirement already satisfied: cloudpathlib==0.21.1 in /usr/local/lib/python3.11/dist-packages (from -r requirements.txt (line 55)) (0.21.1)\n",
            "Requirement already satisfied: cloudpickle==3.1.1 in /usr/local/lib/python3.11/dist-packages (from -r requirements.txt (line 56)) (3.1.1)\n",
            "Requirement already satisfied: cmake==3.31.6 in /usr/local/lib/python3.11/dist-packages (from -r requirements.txt (line 57)) (3.31.6)\n",
            "Requirement already satisfied: cmdstanpy==1.2.5 in /usr/local/lib/python3.11/dist-packages (from -r requirements.txt (line 58)) (1.2.5)\n",
            "Requirement already satisfied: colorcet==3.1.0 in /usr/local/lib/python3.11/dist-packages (from -r requirements.txt (line 59)) (3.1.0)\n",
            "Requirement already satisfied: colorlover==0.3.0 in /usr/local/lib/python3.11/dist-packages (from -r requirements.txt (line 60)) (0.3.0)\n",
            "Requirement already satisfied: colour==0.1.5 in /usr/local/lib/python3.11/dist-packages (from -r requirements.txt (line 61)) (0.1.5)\n",
            "Requirement already satisfied: community==1.0.0b1 in /usr/local/lib/python3.11/dist-packages (from -r requirements.txt (line 62)) (1.0.0b1)\n",
            "Requirement already satisfied: confection==0.1.5 in /usr/local/lib/python3.11/dist-packages (from -r requirements.txt (line 63)) (0.1.5)\n",
            "Requirement already satisfied: cons==0.4.7 in /usr/local/lib/python3.11/dist-packages (from -r requirements.txt (line 64)) (0.4.7)\n",
            "Requirement already satisfied: contourpy==1.3.2 in /usr/local/lib/python3.11/dist-packages (from -r requirements.txt (line 65)) (1.3.2)\n",
            "Requirement already satisfied: cramjam==2.10.0 in /usr/local/lib/python3.11/dist-packages (from -r requirements.txt (line 66)) (2.10.0)\n",
            "Requirement already satisfied: cryptography==43.0.3 in /usr/local/lib/python3.11/dist-packages (from -r requirements.txt (line 67)) (43.0.3)\n",
            "Requirement already satisfied: cuda-python==12.6.2.post1 in /usr/local/lib/python3.11/dist-packages (from -r requirements.txt (line 68)) (12.6.2.post1)\n",
            "Requirement already satisfied: cudf-cu12==25.6.0 in /usr/local/lib/python3.11/dist-packages (from -r requirements.txt (line 69)) (25.6.0)\n",
            "Requirement already satisfied: cudf-polars-cu12==25.6.0 in /usr/local/lib/python3.11/dist-packages (from -r requirements.txt (line 70)) (25.6.0)\n",
            "Requirement already satisfied: cufflinks==0.17.3 in /usr/local/lib/python3.11/dist-packages (from -r requirements.txt (line 71)) (0.17.3)\n",
            "Requirement already satisfied: cuml-cu12==25.6.0 in /usr/local/lib/python3.11/dist-packages (from -r requirements.txt (line 72)) (25.6.0)\n",
            "Requirement already satisfied: cupy-cuda12x==13.3.0 in /usr/local/lib/python3.11/dist-packages (from -r requirements.txt (line 73)) (13.3.0)\n",
            "Requirement already satisfied: curl_cffi==0.12.0 in /usr/local/lib/python3.11/dist-packages (from -r requirements.txt (line 74)) (0.12.0)\n",
            "Requirement already satisfied: cuvs-cu12==25.6.1 in /usr/local/lib/python3.11/dist-packages (from -r requirements.txt (line 75)) (25.6.1)\n",
            "Requirement already satisfied: cvxopt==1.3.2 in /usr/local/lib/python3.11/dist-packages (from -r requirements.txt (line 76)) (1.3.2)\n",
            "Requirement already satisfied: cvxpy==1.6.7 in /usr/local/lib/python3.11/dist-packages (from -r requirements.txt (line 77)) (1.6.7)\n",
            "Requirement already satisfied: cycler==0.12.1 in /usr/local/lib/python3.11/dist-packages (from -r requirements.txt (line 78)) (0.12.1)\n",
            "Requirement already satisfied: cyipopt==1.5.0 in /usr/local/lib/python3.11/dist-packages (from -r requirements.txt (line 79)) (1.5.0)\n",
            "Requirement already satisfied: cymem==2.0.11 in /usr/local/lib/python3.11/dist-packages (from -r requirements.txt (line 80)) (2.0.11)\n",
            "Requirement already satisfied: Cython==3.0.12 in /usr/local/lib/python3.11/dist-packages (from -r requirements.txt (line 81)) (3.0.12)\n",
            "Requirement already satisfied: dask==2025.5.0 in /usr/local/lib/python3.11/dist-packages (from -r requirements.txt (line 82)) (2025.5.0)\n",
            "Requirement already satisfied: dask-cuda==25.6.0 in /usr/local/lib/python3.11/dist-packages (from -r requirements.txt (line 83)) (25.6.0)\n",
            "Requirement already satisfied: dask-cudf-cu12==25.6.0 in /usr/local/lib/python3.11/dist-packages (from -r requirements.txt (line 84)) (25.6.0)\n",
            "Requirement already satisfied: dataproc-spark-connect==0.8.3 in /usr/local/lib/python3.11/dist-packages (from -r requirements.txt (line 85)) (0.8.3)\n",
            "Requirement already satisfied: datasets==4.0.0 in /usr/local/lib/python3.11/dist-packages (from -r requirements.txt (line 86)) (4.0.0)\n",
            "Requirement already satisfied: db-dtypes==1.4.3 in /usr/local/lib/python3.11/dist-packages (from -r requirements.txt (line 87)) (1.4.3)\n",
            "Requirement already satisfied: dbus-python==1.2.18 in /usr/lib/python3/dist-packages (from -r requirements.txt (line 88)) (1.2.18)\n",
            "Requirement already satisfied: debugpy==1.8.15 in /usr/local/lib/python3.11/dist-packages (from -r requirements.txt (line 89)) (1.8.15)\n",
            "Requirement already satisfied: decorator==4.4.2 in /usr/local/lib/python3.11/dist-packages (from -r requirements.txt (line 90)) (4.4.2)\n",
            "Requirement already satisfied: defusedxml==0.7.1 in /usr/local/lib/python3.11/dist-packages (from -r requirements.txt (line 91)) (0.7.1)\n",
            "Requirement already satisfied: diffusers==0.34.0 in /usr/local/lib/python3.11/dist-packages (from -r requirements.txt (line 92)) (0.34.0)\n",
            "Requirement already satisfied: dill==0.3.8 in /usr/local/lib/python3.11/dist-packages (from -r requirements.txt (line 93)) (0.3.8)\n",
            "Requirement already satisfied: distributed==2025.5.0 in /usr/local/lib/python3.11/dist-packages (from -r requirements.txt (line 94)) (2025.5.0)\n",
            "Requirement already satisfied: distributed-ucxx-cu12==0.44.0 in /usr/local/lib/python3.11/dist-packages (from -r requirements.txt (line 95)) (0.44.0)\n",
            "Requirement already satisfied: distro==1.9.0 in /usr/local/lib/python3.11/dist-packages (from -r requirements.txt (line 96)) (1.9.0)\n",
            "Requirement already satisfied: dlib==19.24.6 in /usr/local/lib/python3.11/dist-packages (from -r requirements.txt (line 97)) (19.24.6)\n",
            "Requirement already satisfied: dm-tree==0.1.9 in /usr/local/lib/python3.11/dist-packages (from -r requirements.txt (line 98)) (0.1.9)\n",
            "Requirement already satisfied: docstring_parser==0.17.0 in /usr/local/lib/python3.11/dist-packages (from -r requirements.txt (line 99)) (0.17.0)\n",
            "Requirement already satisfied: docutils==0.21.2 in /usr/local/lib/python3.11/dist-packages (from -r requirements.txt (line 100)) (0.21.2)\n",
            "Requirement already satisfied: dopamine_rl==4.1.2 in /usr/local/lib/python3.11/dist-packages (from -r requirements.txt (line 101)) (4.1.2)\n",
            "Requirement already satisfied: duckdb==1.3.2 in /usr/local/lib/python3.11/dist-packages (from -r requirements.txt (line 102)) (1.3.2)\n",
            "Requirement already satisfied: earthengine-api==1.5.24 in /usr/local/lib/python3.11/dist-packages (from -r requirements.txt (line 103)) (1.5.24)\n",
            "Requirement already satisfied: easydict==1.13 in /usr/local/lib/python3.11/dist-packages (from -r requirements.txt (line 104)) (1.13)\n",
            "Requirement already satisfied: editdistance==0.8.1 in /usr/local/lib/python3.11/dist-packages (from -r requirements.txt (line 105)) (0.8.1)\n",
            "Requirement already satisfied: eerepr==0.1.2 in /usr/local/lib/python3.11/dist-packages (from -r requirements.txt (line 106)) (0.1.2)\n",
            "Requirement already satisfied: einops==0.8.1 in /usr/local/lib/python3.11/dist-packages (from -r requirements.txt (line 107)) (0.8.1)\n",
            "Requirement already satisfied: en_core_web_sm==3.8.0 in /usr/local/lib/python3.11/dist-packages (from -r requirements.txt (line 108)) (3.8.0)\n",
            "Requirement already satisfied: entrypoints==0.4 in /usr/local/lib/python3.11/dist-packages (from -r requirements.txt (line 109)) (0.4)\n",
            "Requirement already satisfied: et_xmlfile==2.0.0 in /usr/local/lib/python3.11/dist-packages (from -r requirements.txt (line 110)) (2.0.0)\n",
            "Requirement already satisfied: etils==1.13.0 in /usr/local/lib/python3.11/dist-packages (from -r requirements.txt (line 111)) (1.13.0)\n",
            "Requirement already satisfied: etuples==0.3.10 in /usr/local/lib/python3.11/dist-packages (from -r requirements.txt (line 112)) (0.3.10)\n",
            "Requirement already satisfied: Farama-Notifications==0.0.4 in /usr/local/lib/python3.11/dist-packages (from -r requirements.txt (line 113)) (0.0.4)\n",
            "Requirement already satisfied: fastai==2.7.19 in /usr/local/lib/python3.11/dist-packages (from -r requirements.txt (line 114)) (2.7.19)\n",
            "Requirement already satisfied: fastapi==0.116.1 in /usr/local/lib/python3.11/dist-packages (from -r requirements.txt (line 115)) (0.116.1)\n",
            "Requirement already satisfied: fastcore==1.7.29 in /usr/local/lib/python3.11/dist-packages (from -r requirements.txt (line 116)) (1.7.29)\n",
            "Requirement already satisfied: fastdownload==0.0.7 in /usr/local/lib/python3.11/dist-packages (from -r requirements.txt (line 117)) (0.0.7)\n",
            "Requirement already satisfied: fastjsonschema==2.21.1 in /usr/local/lib/python3.11/dist-packages (from -r requirements.txt (line 118)) (2.21.1)\n",
            "Requirement already satisfied: fastprogress==1.0.3 in /usr/local/lib/python3.11/dist-packages (from -r requirements.txt (line 119)) (1.0.3)\n",
            "Requirement already satisfied: fastrlock==0.8.3 in /usr/local/lib/python3.11/dist-packages (from -r requirements.txt (line 120)) (0.8.3)\n",
            "Requirement already satisfied: ffmpy==0.6.1 in /usr/local/lib/python3.11/dist-packages (from -r requirements.txt (line 121)) (0.6.1)\n",
            "Requirement already satisfied: filelock==3.18.0 in /usr/local/lib/python3.11/dist-packages (from -r requirements.txt (line 122)) (3.18.0)\n",
            "Requirement already satisfied: firebase-admin==6.9.0 in /usr/local/lib/python3.11/dist-packages (from -r requirements.txt (line 123)) (6.9.0)\n",
            "Requirement already satisfied: Flask==3.1.1 in /usr/local/lib/python3.11/dist-packages (from -r requirements.txt (line 124)) (3.1.1)\n",
            "Requirement already satisfied: flatbuffers==25.2.10 in /usr/local/lib/python3.11/dist-packages (from -r requirements.txt (line 125)) (25.2.10)\n",
            "Requirement already satisfied: flax==0.10.6 in /usr/local/lib/python3.11/dist-packages (from -r requirements.txt (line 126)) (0.10.6)\n",
            "Requirement already satisfied: folium==0.20.0 in /usr/local/lib/python3.11/dist-packages (from -r requirements.txt (line 127)) (0.20.0)\n",
            "Requirement already satisfied: fonttools==4.59.0 in /usr/local/lib/python3.11/dist-packages (from -r requirements.txt (line 128)) (4.59.0)\n",
            "Requirement already satisfied: frozendict==2.4.6 in /usr/local/lib/python3.11/dist-packages (from -r requirements.txt (line 129)) (2.4.6)\n",
            "Requirement already satisfied: frozenlist==1.7.0 in /usr/local/lib/python3.11/dist-packages (from -r requirements.txt (line 130)) (1.7.0)\n",
            "Requirement already satisfied: fsspec==2025.3.0 in /usr/local/lib/python3.11/dist-packages (from -r requirements.txt (line 131)) (2025.3.0)\n",
            "Requirement already satisfied: future==1.0.0 in /usr/local/lib/python3.11/dist-packages (from -r requirements.txt (line 132)) (1.0.0)\n",
            "Requirement already satisfied: gast==0.6.0 in /usr/local/lib/python3.11/dist-packages (from -r requirements.txt (line 133)) (0.6.0)\n",
            "Requirement already satisfied: gcsfs==2025.3.0 in /usr/local/lib/python3.11/dist-packages (from -r requirements.txt (line 134)) (2025.3.0)\n",
            "Requirement already satisfied: GDAL==3.8.4 in /usr/local/lib/python3.11/dist-packages (from -r requirements.txt (line 135)) (3.8.4)\n",
            "Requirement already satisfied: gdown==5.2.0 in /usr/local/lib/python3.11/dist-packages (from -r requirements.txt (line 136)) (5.2.0)\n",
            "Requirement already satisfied: geemap==0.35.3 in /usr/local/lib/python3.11/dist-packages (from -r requirements.txt (line 137)) (0.35.3)\n",
            "Requirement already satisfied: gensim==4.3.2 in /usr/local/lib/python3.11/dist-packages (from -r requirements.txt (line 138)) (4.3.2)\n",
            "Requirement already satisfied: geocoder==1.38.1 in /usr/local/lib/python3.11/dist-packages (from -r requirements.txt (line 139)) (1.38.1)\n",
            "Requirement already satisfied: geographiclib==2.0 in /usr/local/lib/python3.11/dist-packages (from -r requirements.txt (line 140)) (2.0)\n",
            "Requirement already satisfied: geopandas==1.1.1 in /usr/local/lib/python3.11/dist-packages (from -r requirements.txt (line 141)) (1.1.1)\n",
            "Requirement already satisfied: geopy==2.4.1 in /usr/local/lib/python3.11/dist-packages (from -r requirements.txt (line 142)) (2.4.1)\n",
            "Requirement already satisfied: gin-config==0.5.0 in /usr/local/lib/python3.11/dist-packages (from -r requirements.txt (line 143)) (0.5.0)\n",
            "Requirement already satisfied: gitdb==4.0.12 in /usr/local/lib/python3.11/dist-packages (from -r requirements.txt (line 144)) (4.0.12)\n",
            "Requirement already satisfied: GitPython==3.1.45 in /usr/local/lib/python3.11/dist-packages (from -r requirements.txt (line 145)) (3.1.45)\n",
            "Requirement already satisfied: glob2==0.7 in /usr/local/lib/python3.11/dist-packages (from -r requirements.txt (line 146)) (0.7)\n",
            "Requirement already satisfied: google==2.0.3 in /usr/local/lib/python3.11/dist-packages (from -r requirements.txt (line 147)) (2.0.3)\n",
            "Requirement already satisfied: google-ai-generativelanguage==0.6.15 in /usr/local/lib/python3.11/dist-packages (from -r requirements.txt (line 148)) (0.6.15)\n",
            "Requirement already satisfied: google-api-core==2.25.1 in /usr/local/lib/python3.11/dist-packages (from -r requirements.txt (line 149)) (2.25.1)\n",
            "Requirement already satisfied: google-api-python-client==2.177.0 in /usr/local/lib/python3.11/dist-packages (from -r requirements.txt (line 150)) (2.177.0)\n",
            "Requirement already satisfied: google-auth==2.38.0 in /usr/local/lib/python3.11/dist-packages (from -r requirements.txt (line 151)) (2.38.0)\n",
            "Requirement already satisfied: google-auth-httplib2==0.2.0 in /usr/local/lib/python3.11/dist-packages (from -r requirements.txt (line 152)) (0.2.0)\n",
            "Requirement already satisfied: google-auth-oauthlib==1.2.2 in /usr/local/lib/python3.11/dist-packages (from -r requirements.txt (line 153)) (1.2.2)\n",
            "Requirement already satisfied: google-cloud-aiplatform==1.105.0 in /usr/local/lib/python3.11/dist-packages (from -r requirements.txt (line 154)) (1.105.0)\n",
            "Requirement already satisfied: google-cloud-bigquery==3.35.1 in /usr/local/lib/python3.11/dist-packages (from -r requirements.txt (line 155)) (3.35.1)\n",
            "Requirement already satisfied: google-cloud-bigquery-connection==1.18.3 in /usr/local/lib/python3.11/dist-packages (from -r requirements.txt (line 156)) (1.18.3)\n",
            "Requirement already satisfied: google-cloud-bigquery-storage==2.32.0 in /usr/local/lib/python3.11/dist-packages (from -r requirements.txt (line 157)) (2.32.0)\n",
            "Requirement already satisfied: google-cloud-core==2.4.3 in /usr/local/lib/python3.11/dist-packages (from -r requirements.txt (line 158)) (2.4.3)\n",
            "Requirement already satisfied: google-cloud-dataproc==5.21.0 in /usr/local/lib/python3.11/dist-packages (from -r requirements.txt (line 159)) (5.21.0)\n",
            "Requirement already satisfied: google-cloud-datastore==2.21.0 in /usr/local/lib/python3.11/dist-packages (from -r requirements.txt (line 160)) (2.21.0)\n",
            "Requirement already satisfied: google-cloud-firestore==2.21.0 in /usr/local/lib/python3.11/dist-packages (from -r requirements.txt (line 161)) (2.21.0)\n",
            "Requirement already satisfied: google-cloud-functions==1.20.4 in /usr/local/lib/python3.11/dist-packages (from -r requirements.txt (line 162)) (1.20.4)\n",
            "Requirement already satisfied: google-cloud-iam==2.19.1 in /usr/local/lib/python3.11/dist-packages (from -r requirements.txt (line 163)) (2.19.1)\n",
            "Requirement already satisfied: google-cloud-language==2.17.2 in /usr/local/lib/python3.11/dist-packages (from -r requirements.txt (line 164)) (2.17.2)\n",
            "Requirement already satisfied: google-cloud-resource-manager==1.14.2 in /usr/local/lib/python3.11/dist-packages (from -r requirements.txt (line 165)) (1.14.2)\n",
            "Requirement already satisfied: google-cloud-spanner==3.56.0 in /usr/local/lib/python3.11/dist-packages (from -r requirements.txt (line 166)) (3.56.0)\n",
            "Requirement already satisfied: google-cloud-storage==2.19.0 in /usr/local/lib/python3.11/dist-packages (from -r requirements.txt (line 167)) (2.19.0)\n",
            "Requirement already satisfied: google-cloud-translate==3.21.1 in /usr/local/lib/python3.11/dist-packages (from -r requirements.txt (line 168)) (3.21.1)\n",
            "Requirement already satisfied: google-colab==1.0.0 in /usr/local/lib/python3.11/dist-packages (from -r requirements.txt (line 169)) (1.0.0)\n",
            "Requirement already satisfied: google-crc32c==1.7.1 in /usr/local/lib/python3.11/dist-packages (from -r requirements.txt (line 170)) (1.7.1)\n",
            "Requirement already satisfied: google-genai==1.27.0 in /usr/local/lib/python3.11/dist-packages (from -r requirements.txt (line 171)) (1.27.0)\n",
            "Requirement already satisfied: google-generativeai==0.8.5 in /usr/local/lib/python3.11/dist-packages (from -r requirements.txt (line 172)) (0.8.5)\n",
            "Requirement already satisfied: google-pasta==0.2.0 in /usr/local/lib/python3.11/dist-packages (from -r requirements.txt (line 173)) (0.2.0)\n",
            "Requirement already satisfied: google-resumable-media==2.7.2 in /usr/local/lib/python3.11/dist-packages (from -r requirements.txt (line 174)) (2.7.2)\n",
            "Requirement already satisfied: googleapis-common-protos==1.70.0 in /usr/local/lib/python3.11/dist-packages (from -r requirements.txt (line 175)) (1.70.0)\n",
            "Requirement already satisfied: googledrivedownloader==1.1.0 in /usr/local/lib/python3.11/dist-packages (from -r requirements.txt (line 176)) (1.1.0)\n",
            "Requirement already satisfied: gradio==5.38.2 in /usr/local/lib/python3.11/dist-packages (from -r requirements.txt (line 177)) (5.38.2)\n",
            "Requirement already satisfied: gradio_client==1.11.0 in /usr/local/lib/python3.11/dist-packages (from -r requirements.txt (line 178)) (1.11.0)\n",
            "Requirement already satisfied: graphviz==0.21 in /usr/local/lib/python3.11/dist-packages (from -r requirements.txt (line 179)) (0.21)\n",
            "Requirement already satisfied: greenlet==3.2.3 in /usr/local/lib/python3.11/dist-packages (from -r requirements.txt (line 180)) (3.2.3)\n",
            "Requirement already satisfied: groovy==0.1.2 in /usr/local/lib/python3.11/dist-packages (from -r requirements.txt (line 181)) (0.1.2)\n",
            "Requirement already satisfied: grpc-google-iam-v1==0.14.2 in /usr/local/lib/python3.11/dist-packages (from -r requirements.txt (line 182)) (0.14.2)\n",
            "Requirement already satisfied: grpc-interceptor==0.15.4 in /usr/local/lib/python3.11/dist-packages (from -r requirements.txt (line 183)) (0.15.4)\n",
            "Requirement already satisfied: grpcio==1.74.0 in /usr/local/lib/python3.11/dist-packages (from -r requirements.txt (line 184)) (1.74.0)\n",
            "Requirement already satisfied: grpcio-status==1.71.2 in /usr/local/lib/python3.11/dist-packages (from -r requirements.txt (line 185)) (1.71.2)\n",
            "Requirement already satisfied: grpclib==0.4.8 in /usr/local/lib/python3.11/dist-packages (from -r requirements.txt (line 186)) (0.4.8)\n",
            "Requirement already satisfied: gspread==6.2.1 in /usr/local/lib/python3.11/dist-packages (from -r requirements.txt (line 187)) (6.2.1)\n",
            "Requirement already satisfied: gspread-dataframe==4.0.0 in /usr/local/lib/python3.11/dist-packages (from -r requirements.txt (line 188)) (4.0.0)\n",
            "Requirement already satisfied: gym==0.25.2 in /usr/local/lib/python3.11/dist-packages (from -r requirements.txt (line 189)) (0.25.2)\n",
            "Requirement already satisfied: gym-notices==0.0.8 in /usr/local/lib/python3.11/dist-packages (from -r requirements.txt (line 190)) (0.0.8)\n",
            "Requirement already satisfied: gymnasium==1.2.0 in /usr/local/lib/python3.11/dist-packages (from -r requirements.txt (line 191)) (1.2.0)\n",
            "Requirement already satisfied: h11==0.16.0 in /usr/local/lib/python3.11/dist-packages (from -r requirements.txt (line 192)) (0.16.0)\n",
            "Requirement already satisfied: h2==4.2.0 in /usr/local/lib/python3.11/dist-packages (from -r requirements.txt (line 193)) (4.2.0)\n",
            "Requirement already satisfied: h5netcdf==1.6.3 in /usr/local/lib/python3.11/dist-packages (from -r requirements.txt (line 194)) (1.6.3)\n",
            "Requirement already satisfied: h5py==3.14.0 in /usr/local/lib/python3.11/dist-packages (from -r requirements.txt (line 195)) (3.14.0)\n",
            "Requirement already satisfied: hdbscan==0.8.40 in /usr/local/lib/python3.11/dist-packages (from -r requirements.txt (line 196)) (0.8.40)\n",
            "Requirement already satisfied: hf_transfer==0.1.9 in /usr/local/lib/python3.11/dist-packages (from -r requirements.txt (line 197)) (0.1.9)\n",
            "Requirement already satisfied: hf-xet==1.1.5 in /usr/local/lib/python3.11/dist-packages (from -r requirements.txt (line 198)) (1.1.5)\n",
            "Requirement already satisfied: highspy==1.11.0 in /usr/local/lib/python3.11/dist-packages (from -r requirements.txt (line 199)) (1.11.0)\n",
            "Requirement already satisfied: holidays==0.77 in /usr/local/lib/python3.11/dist-packages (from -r requirements.txt (line 200)) (0.77)\n",
            "Requirement already satisfied: holoviews==1.21.0 in /usr/local/lib/python3.11/dist-packages (from -r requirements.txt (line 201)) (1.21.0)\n",
            "Requirement already satisfied: hpack==4.1.0 in /usr/local/lib/python3.11/dist-packages (from -r requirements.txt (line 202)) (4.1.0)\n",
            "Requirement already satisfied: html5lib==1.1 in /usr/local/lib/python3.11/dist-packages (from -r requirements.txt (line 203)) (1.1)\n",
            "Requirement already satisfied: httpcore==1.0.9 in /usr/local/lib/python3.11/dist-packages (from -r requirements.txt (line 204)) (1.0.9)\n",
            "Requirement already satisfied: httpimport==1.4.1 in /usr/local/lib/python3.11/dist-packages (from -r requirements.txt (line 205)) (1.4.1)\n",
            "Requirement already satisfied: httplib2==0.22.0 in /usr/local/lib/python3.11/dist-packages (from -r requirements.txt (line 206)) (0.22.0)\n",
            "Requirement already satisfied: httpx==0.28.1 in /usr/local/lib/python3.11/dist-packages (from -r requirements.txt (line 207)) (0.28.1)\n",
            "Requirement already satisfied: huggingface-hub==0.34.1 in /usr/local/lib/python3.11/dist-packages (from -r requirements.txt (line 208)) (0.34.1)\n",
            "Requirement already satisfied: humanize==4.12.3 in /usr/local/lib/python3.11/dist-packages (from -r requirements.txt (line 209)) (4.12.3)\n",
            "Requirement already satisfied: hyperframe==6.1.0 in /usr/local/lib/python3.11/dist-packages (from -r requirements.txt (line 210)) (6.1.0)\n",
            "Requirement already satisfied: hyperopt==0.2.7 in /usr/local/lib/python3.11/dist-packages (from -r requirements.txt (line 211)) (0.2.7)\n",
            "Requirement already satisfied: ibis-framework==9.5.0 in /usr/local/lib/python3.11/dist-packages (from -r requirements.txt (line 212)) (9.5.0)\n",
            "Requirement already satisfied: idna==3.10 in /usr/local/lib/python3.11/dist-packages (from -r requirements.txt (line 213)) (3.10)\n",
            "Requirement already satisfied: imageio==2.37.0 in /usr/local/lib/python3.11/dist-packages (from -r requirements.txt (line 214)) (2.37.0)\n",
            "Requirement already satisfied: imageio-ffmpeg==0.6.0 in /usr/local/lib/python3.11/dist-packages (from -r requirements.txt (line 215)) (0.6.0)\n",
            "Requirement already satisfied: imagesize==1.4.1 in /usr/local/lib/python3.11/dist-packages (from -r requirements.txt (line 216)) (1.4.1)\n",
            "Requirement already satisfied: imbalanced-learn==0.13.0 in /usr/local/lib/python3.11/dist-packages (from -r requirements.txt (line 217)) (0.13.0)\n",
            "Requirement already satisfied: immutabledict==4.2.1 in /usr/local/lib/python3.11/dist-packages (from -r requirements.txt (line 218)) (4.2.1)\n",
            "Requirement already satisfied: importlib_metadata==8.7.0 in /usr/local/lib/python3.11/dist-packages (from -r requirements.txt (line 219)) (8.7.0)\n",
            "Requirement already satisfied: importlib_resources==6.5.2 in /usr/local/lib/python3.11/dist-packages (from -r requirements.txt (line 220)) (6.5.2)\n",
            "Requirement already satisfied: imutils==0.5.4 in /usr/local/lib/python3.11/dist-packages (from -r requirements.txt (line 221)) (0.5.4)\n",
            "Requirement already satisfied: inflect==7.5.0 in /usr/local/lib/python3.11/dist-packages (from -r requirements.txt (line 222)) (7.5.0)\n",
            "Requirement already satisfied: iniconfig==2.1.0 in /usr/local/lib/python3.11/dist-packages (from -r requirements.txt (line 223)) (2.1.0)\n",
            "Requirement already satisfied: intel-cmplr-lib-ur==2025.2.0 in /usr/local/lib/python3.11/dist-packages (from -r requirements.txt (line 224)) (2025.2.0)\n",
            "Requirement already satisfied: intel-openmp==2025.2.0 in /usr/local/lib/python3.11/dist-packages (from -r requirements.txt (line 225)) (2025.2.0)\n",
            "Requirement already satisfied: ipyevents==2.0.2 in /usr/local/lib/python3.11/dist-packages (from -r requirements.txt (line 226)) (2.0.2)\n",
            "Requirement already satisfied: ipyfilechooser==0.6.0 in /usr/local/lib/python3.11/dist-packages (from -r requirements.txt (line 227)) (0.6.0)\n",
            "Requirement already satisfied: ipykernel==6.17.1 in /usr/local/lib/python3.11/dist-packages (from -r requirements.txt (line 228)) (6.17.1)\n",
            "Requirement already satisfied: ipyleaflet==0.20.0 in /usr/local/lib/python3.11/dist-packages (from -r requirements.txt (line 229)) (0.20.0)\n",
            "Requirement already satisfied: ipyparallel==8.8.0 in /usr/local/lib/python3.11/dist-packages (from -r requirements.txt (line 230)) (8.8.0)\n",
            "Requirement already satisfied: ipython==7.34.0 in /usr/local/lib/python3.11/dist-packages (from -r requirements.txt (line 231)) (7.34.0)\n",
            "Requirement already satisfied: ipython-genutils==0.2.0 in /usr/local/lib/python3.11/dist-packages (from -r requirements.txt (line 232)) (0.2.0)\n",
            "Requirement already satisfied: ipython-sql==0.5.0 in /usr/local/lib/python3.11/dist-packages (from -r requirements.txt (line 233)) (0.5.0)\n",
            "Requirement already satisfied: ipytree==0.2.2 in /usr/local/lib/python3.11/dist-packages (from -r requirements.txt (line 234)) (0.2.2)\n",
            "Requirement already satisfied: ipywidgets==7.7.1 in /usr/local/lib/python3.11/dist-packages (from -r requirements.txt (line 235)) (7.7.1)\n",
            "Requirement already satisfied: itsdangerous==2.2.0 in /usr/local/lib/python3.11/dist-packages (from -r requirements.txt (line 236)) (2.2.0)\n",
            "Requirement already satisfied: jaraco.classes==3.4.0 in /usr/local/lib/python3.11/dist-packages (from -r requirements.txt (line 237)) (3.4.0)\n",
            "Requirement already satisfied: jaraco.context==6.0.1 in /usr/local/lib/python3.11/dist-packages (from -r requirements.txt (line 238)) (6.0.1)\n",
            "Requirement already satisfied: jaraco.functools==4.2.1 in /usr/local/lib/python3.11/dist-packages (from -r requirements.txt (line 239)) (4.2.1)\n",
            "Requirement already satisfied: jax==0.5.2 in /usr/local/lib/python3.11/dist-packages (from -r requirements.txt (line 240)) (0.5.2)\n",
            "Requirement already satisfied: jax-cuda12-pjrt==0.5.1 in /usr/local/lib/python3.11/dist-packages (from -r requirements.txt (line 241)) (0.5.1)\n",
            "Requirement already satisfied: jax-cuda12-plugin==0.5.1 in /usr/local/lib/python3.11/dist-packages (from -r requirements.txt (line 242)) (0.5.1)\n",
            "Requirement already satisfied: jaxlib==0.5.1 in /usr/local/lib/python3.11/dist-packages (from -r requirements.txt (line 243)) (0.5.1)\n",
            "Requirement already satisfied: jeepney==0.9.0 in /usr/local/lib/python3.11/dist-packages (from -r requirements.txt (line 244)) (0.9.0)\n",
            "Requirement already satisfied: jieba==0.42.1 in /usr/local/lib/python3.11/dist-packages (from -r requirements.txt (line 245)) (0.42.1)\n",
            "Requirement already satisfied: Jinja2==3.1.6 in /usr/local/lib/python3.11/dist-packages (from -r requirements.txt (line 246)) (3.1.6)\n",
            "Requirement already satisfied: jiter==0.10.0 in /usr/local/lib/python3.11/dist-packages (from -r requirements.txt (line 247)) (0.10.0)\n",
            "Requirement already satisfied: joblib==1.5.1 in /usr/local/lib/python3.11/dist-packages (from -r requirements.txt (line 248)) (1.5.1)\n",
            "Requirement already satisfied: jsonpatch==1.33 in /usr/local/lib/python3.11/dist-packages (from -r requirements.txt (line 249)) (1.33)\n",
            "Requirement already satisfied: jsonpickle==4.1.1 in /usr/local/lib/python3.11/dist-packages (from -r requirements.txt (line 250)) (4.1.1)\n",
            "Requirement already satisfied: jsonpointer==3.0.0 in /usr/local/lib/python3.11/dist-packages (from -r requirements.txt (line 251)) (3.0.0)\n",
            "Requirement already satisfied: jsonschema==4.25.0 in /usr/local/lib/python3.11/dist-packages (from -r requirements.txt (line 252)) (4.25.0)\n",
            "Requirement already satisfied: jsonschema-specifications==2025.4.1 in /usr/local/lib/python3.11/dist-packages (from -r requirements.txt (line 253)) (2025.4.1)\n",
            "Requirement already satisfied: jupyter-client==6.1.12 in /usr/local/lib/python3.11/dist-packages (from -r requirements.txt (line 254)) (6.1.12)\n",
            "Requirement already satisfied: jupyter-console==6.1.0 in /usr/local/lib/python3.11/dist-packages (from -r requirements.txt (line 255)) (6.1.0)\n",
            "Requirement already satisfied: jupyter_core==5.8.1 in /usr/local/lib/python3.11/dist-packages (from -r requirements.txt (line 256)) (5.8.1)\n",
            "Requirement already satisfied: jupyter_kernel_gateway==2.5.2 in /usr/local/lib/python3.11/dist-packages (from -r requirements.txt (line 257)) (2.5.2)\n",
            "Requirement already satisfied: jupyter-leaflet==0.20.0 in /usr/local/lib/python3.11/dist-packages (from -r requirements.txt (line 258)) (0.20.0)\n",
            "Requirement already satisfied: jupyter-server==1.16.0 in /usr/local/lib/python3.11/dist-packages (from -r requirements.txt (line 259)) (1.16.0)\n",
            "Requirement already satisfied: jupyterlab_pygments==0.3.0 in /usr/local/lib/python3.11/dist-packages (from -r requirements.txt (line 260)) (0.3.0)\n",
            "Requirement already satisfied: jupyterlab_widgets==3.0.15 in /usr/local/lib/python3.11/dist-packages (from -r requirements.txt (line 261)) (3.0.15)\n",
            "Requirement already satisfied: jupytext==1.17.2 in /usr/local/lib/python3.11/dist-packages (from -r requirements.txt (line 262)) (1.17.2)\n",
            "Requirement already satisfied: kaggle==1.7.4.5 in /usr/local/lib/python3.11/dist-packages (from -r requirements.txt (line 263)) (1.7.4.5)\n",
            "Requirement already satisfied: kagglehub==0.3.12 in /usr/local/lib/python3.11/dist-packages (from -r requirements.txt (line 264)) (0.3.12)\n",
            "Requirement already satisfied: keras==3.8.0 in /usr/local/lib/python3.11/dist-packages (from -r requirements.txt (line 265)) (3.8.0)\n",
            "Requirement already satisfied: keras-hub==0.18.1 in /usr/local/lib/python3.11/dist-packages (from -r requirements.txt (line 266)) (0.18.1)\n",
            "Requirement already satisfied: keras-nlp==0.18.1 in /usr/local/lib/python3.11/dist-packages (from -r requirements.txt (line 267)) (0.18.1)\n",
            "Requirement already satisfied: keyring==25.6.0 in /usr/local/lib/python3.11/dist-packages (from -r requirements.txt (line 268)) (25.6.0)\n",
            "Requirement already satisfied: keyrings.google-artifactregistry-auth==1.1.2 in /usr/local/lib/python3.11/dist-packages (from -r requirements.txt (line 269)) (1.1.2)\n",
            "Requirement already satisfied: kiwisolver==1.4.8 in /usr/local/lib/python3.11/dist-packages (from -r requirements.txt (line 270)) (1.4.8)\n",
            "Requirement already satisfied: langchain==0.3.27 in /usr/local/lib/python3.11/dist-packages (from -r requirements.txt (line 271)) (0.3.27)\n",
            "Requirement already satisfied: langchain-core==0.3.72 in /usr/local/lib/python3.11/dist-packages (from -r requirements.txt (line 272)) (0.3.72)\n",
            "Requirement already satisfied: langchain-text-splitters==0.3.9 in /usr/local/lib/python3.11/dist-packages (from -r requirements.txt (line 273)) (0.3.9)\n",
            "Requirement already satisfied: langcodes==3.5.0 in /usr/local/lib/python3.11/dist-packages (from -r requirements.txt (line 274)) (3.5.0)\n",
            "Requirement already satisfied: langsmith==0.4.8 in /usr/local/lib/python3.11/dist-packages (from -r requirements.txt (line 275)) (0.4.8)\n",
            "Requirement already satisfied: language_data==1.3.0 in /usr/local/lib/python3.11/dist-packages (from -r requirements.txt (line 276)) (1.3.0)\n",
            "Requirement already satisfied: launchpadlib==1.10.16 in /usr/lib/python3/dist-packages (from -r requirements.txt (line 277)) (1.10.16)\n",
            "Requirement already satisfied: lazr.restfulclient==0.14.4 in /usr/lib/python3/dist-packages (from -r requirements.txt (line 278)) (0.14.4)\n",
            "Requirement already satisfied: lazr.uri==1.0.6 in /usr/lib/python3/dist-packages (from -r requirements.txt (line 279)) (1.0.6)\n",
            "Requirement already satisfied: lazy_loader==0.4 in /usr/local/lib/python3.11/dist-packages (from -r requirements.txt (line 280)) (0.4)\n",
            "Requirement already satisfied: libclang==18.1.1 in /usr/local/lib/python3.11/dist-packages (from -r requirements.txt (line 281)) (18.1.1)\n",
            "Requirement already satisfied: libcudf-cu12==25.6.0 in /usr/local/lib/python3.11/dist-packages (from -r requirements.txt (line 282)) (25.6.0)\n",
            "Requirement already satisfied: libcugraph-cu12==25.6.0 in /usr/local/lib/python3.11/dist-packages (from -r requirements.txt (line 283)) (25.6.0)\n",
            "Requirement already satisfied: libcuml-cu12==25.6.0 in /usr/local/lib/python3.11/dist-packages (from -r requirements.txt (line 284)) (25.6.0)\n",
            "Requirement already satisfied: libcuvs-cu12==25.6.1 in /usr/local/lib/python3.11/dist-packages (from -r requirements.txt (line 285)) (25.6.1)\n",
            "Requirement already satisfied: libkvikio-cu12==25.6.0 in /usr/local/lib/python3.11/dist-packages (from -r requirements.txt (line 286)) (25.6.0)\n",
            "Requirement already satisfied: libpysal==4.13.0 in /usr/local/lib/python3.11/dist-packages (from -r requirements.txt (line 287)) (4.13.0)\n",
            "Requirement already satisfied: libraft-cu12==25.6.0 in /usr/local/lib/python3.11/dist-packages (from -r requirements.txt (line 288)) (25.6.0)\n",
            "Requirement already satisfied: librmm-cu12==25.6.0 in /usr/local/lib/python3.11/dist-packages (from -r requirements.txt (line 289)) (25.6.0)\n",
            "Requirement already satisfied: librosa==0.11.0 in /usr/local/lib/python3.11/dist-packages (from -r requirements.txt (line 290)) (0.11.0)\n",
            "Requirement already satisfied: libucx-cu12==1.18.1 in /usr/local/lib/python3.11/dist-packages (from -r requirements.txt (line 291)) (1.18.1)\n",
            "Requirement already satisfied: libucxx-cu12==0.44.0 in /usr/local/lib/python3.11/dist-packages (from -r requirements.txt (line 292)) (0.44.0)\n",
            "Requirement already satisfied: lightgbm==4.6.0 in /usr/local/lib/python3.11/dist-packages (from -r requirements.txt (line 293)) (4.6.0)\n",
            "Requirement already satisfied: linkify-it-py==2.0.3 in /usr/local/lib/python3.11/dist-packages (from -r requirements.txt (line 294)) (2.0.3)\n",
            "Requirement already satisfied: llvmlite==0.43.0 in /usr/local/lib/python3.11/dist-packages (from -r requirements.txt (line 295)) (0.43.0)\n",
            "Requirement already satisfied: locket==1.0.0 in /usr/local/lib/python3.11/dist-packages (from -r requirements.txt (line 296)) (1.0.0)\n",
            "Requirement already satisfied: logical-unification==0.4.6 in /usr/local/lib/python3.11/dist-packages (from -r requirements.txt (line 297)) (0.4.6)\n",
            "Requirement already satisfied: lxml==5.4.0 in /usr/local/lib/python3.11/dist-packages (from -r requirements.txt (line 298)) (5.4.0)\n",
            "Requirement already satisfied: Mako==1.1.3 in /usr/lib/python3/dist-packages (from -r requirements.txt (line 299)) (1.1.3)\n",
            "Requirement already satisfied: marisa-trie==1.2.1 in /usr/local/lib/python3.11/dist-packages (from -r requirements.txt (line 300)) (1.2.1)\n",
            "Requirement already satisfied: Markdown==3.8.2 in /usr/local/lib/python3.11/dist-packages (from -r requirements.txt (line 301)) (3.8.2)\n",
            "Requirement already satisfied: markdown-it-py==3.0.0 in /usr/local/lib/python3.11/dist-packages (from -r requirements.txt (line 302)) (3.0.0)\n",
            "Requirement already satisfied: MarkupSafe==3.0.2 in /usr/local/lib/python3.11/dist-packages (from -r requirements.txt (line 303)) (3.0.2)\n",
            "Requirement already satisfied: matplotlib==3.10.0 in /usr/local/lib/python3.11/dist-packages (from -r requirements.txt (line 304)) (3.10.0)\n",
            "Requirement already satisfied: matplotlib-inline==0.1.7 in /usr/local/lib/python3.11/dist-packages (from -r requirements.txt (line 305)) (0.1.7)\n",
            "Requirement already satisfied: matplotlib-venn==1.1.2 in /usr/local/lib/python3.11/dist-packages (from -r requirements.txt (line 306)) (1.1.2)\n",
            "Requirement already satisfied: mdit-py-plugins==0.4.2 in /usr/local/lib/python3.11/dist-packages (from -r requirements.txt (line 307)) (0.4.2)\n",
            "Requirement already satisfied: mdurl==0.1.2 in /usr/local/lib/python3.11/dist-packages (from -r requirements.txt (line 308)) (0.1.2)\n",
            "Requirement already satisfied: miniKanren==1.0.5 in /usr/local/lib/python3.11/dist-packages (from -r requirements.txt (line 309)) (1.0.5)\n",
            "Requirement already satisfied: missingno==0.5.2 in /usr/local/lib/python3.11/dist-packages (from -r requirements.txt (line 310)) (0.5.2)\n",
            "Requirement already satisfied: mistune==3.1.3 in /usr/local/lib/python3.11/dist-packages (from -r requirements.txt (line 311)) (3.1.3)\n",
            "Requirement already satisfied: mizani==0.13.5 in /usr/local/lib/python3.11/dist-packages (from -r requirements.txt (line 312)) (0.13.5)\n",
            "Requirement already satisfied: mkl==2025.2.0 in /usr/local/lib/python3.11/dist-packages (from -r requirements.txt (line 313)) (2025.2.0)\n",
            "Requirement already satisfied: ml-dtypes==0.4.1 in /usr/local/lib/python3.11/dist-packages (from -r requirements.txt (line 314)) (0.4.1)\n",
            "Requirement already satisfied: mlxtend==0.23.4 in /usr/local/lib/python3.11/dist-packages (from -r requirements.txt (line 315)) (0.23.4)\n",
            "Requirement already satisfied: more-itertools==10.7.0 in /usr/local/lib/python3.11/dist-packages (from -r requirements.txt (line 316)) (10.7.0)\n",
            "Requirement already satisfied: moviepy==1.0.3 in /usr/local/lib/python3.11/dist-packages (from -r requirements.txt (line 317)) (1.0.3)\n",
            "Requirement already satisfied: mpmath==1.3.0 in /usr/local/lib/python3.11/dist-packages (from -r requirements.txt (line 318)) (1.3.0)\n",
            "Requirement already satisfied: msgpack==1.1.1 in /usr/local/lib/python3.11/dist-packages (from -r requirements.txt (line 319)) (1.1.1)\n",
            "Requirement already satisfied: multidict==6.6.3 in /usr/local/lib/python3.11/dist-packages (from -r requirements.txt (line 320)) (6.6.3)\n",
            "Requirement already satisfied: multipledispatch==1.0.0 in /usr/local/lib/python3.11/dist-packages (from -r requirements.txt (line 321)) (1.0.0)\n",
            "Requirement already satisfied: multiprocess==0.70.16 in /usr/local/lib/python3.11/dist-packages (from -r requirements.txt (line 322)) (0.70.16)\n",
            "Requirement already satisfied: multitasking==0.0.12 in /usr/local/lib/python3.11/dist-packages (from -r requirements.txt (line 323)) (0.0.12)\n",
            "Requirement already satisfied: murmurhash==1.0.13 in /usr/local/lib/python3.11/dist-packages (from -r requirements.txt (line 324)) (1.0.13)\n",
            "Requirement already satisfied: music21==9.3.0 in /usr/local/lib/python3.11/dist-packages (from -r requirements.txt (line 325)) (9.3.0)\n",
            "Requirement already satisfied: namex==0.1.0 in /usr/local/lib/python3.11/dist-packages (from -r requirements.txt (line 326)) (0.1.0)\n",
            "Requirement already satisfied: narwhals==1.48.1 in /usr/local/lib/python3.11/dist-packages (from -r requirements.txt (line 327)) (1.48.1)\n",
            "Requirement already satisfied: natsort==8.4.0 in /usr/local/lib/python3.11/dist-packages (from -r requirements.txt (line 328)) (8.4.0)\n",
            "Requirement already satisfied: nbclassic==1.3.1 in /usr/local/lib/python3.11/dist-packages (from -r requirements.txt (line 329)) (1.3.1)\n",
            "Requirement already satisfied: nbclient==0.10.2 in /usr/local/lib/python3.11/dist-packages (from -r requirements.txt (line 330)) (0.10.2)\n",
            "Requirement already satisfied: nbconvert==7.16.6 in /usr/local/lib/python3.11/dist-packages (from -r requirements.txt (line 331)) (7.16.6)\n",
            "Requirement already satisfied: nbformat==5.10.4 in /usr/local/lib/python3.11/dist-packages (from -r requirements.txt (line 332)) (5.10.4)\n",
            "Requirement already satisfied: ndindex==1.10.0 in /usr/local/lib/python3.11/dist-packages (from -r requirements.txt (line 333)) (1.10.0)\n",
            "Requirement already satisfied: nest-asyncio==1.6.0 in /usr/local/lib/python3.11/dist-packages (from -r requirements.txt (line 334)) (1.6.0)\n",
            "Requirement already satisfied: networkx==3.5 in /usr/local/lib/python3.11/dist-packages (from -r requirements.txt (line 335)) (3.5)\n",
            "Requirement already satisfied: nibabel==5.3.2 in /usr/local/lib/python3.11/dist-packages (from -r requirements.txt (line 336)) (5.3.2)\n",
            "Requirement already satisfied: nltk==3.9.1 in /usr/local/lib/python3.11/dist-packages (from -r requirements.txt (line 337)) (3.9.1)\n",
            "Requirement already satisfied: notebook==6.5.7 in /usr/local/lib/python3.11/dist-packages (from -r requirements.txt (line 338)) (6.5.7)\n",
            "Requirement already satisfied: notebook_shim==0.2.4 in /usr/local/lib/python3.11/dist-packages (from -r requirements.txt (line 339)) (0.2.4)\n",
            "Requirement already satisfied: numba==0.60.0 in /usr/local/lib/python3.11/dist-packages (from -r requirements.txt (line 340)) (0.60.0)\n",
            "Requirement already satisfied: numba-cuda==0.11.0 in /usr/local/lib/python3.11/dist-packages (from -r requirements.txt (line 341)) (0.11.0)\n",
            "Requirement already satisfied: numexpr==2.11.0 in /usr/local/lib/python3.11/dist-packages (from -r requirements.txt (line 342)) (2.11.0)\n",
            "Requirement already satisfied: numpy==1.25.2 in /usr/local/lib/python3.11/dist-packages (from -r requirements.txt (line 343)) (1.25.2)\n",
            "Requirement already satisfied: nvidia-cublas-cu12==12.5.3.2 in /usr/local/lib/python3.11/dist-packages (from -r requirements.txt (line 344)) (12.5.3.2)\n",
            "Requirement already satisfied: nvidia-cuda-cupti-cu12==12.5.82 in /usr/local/lib/python3.11/dist-packages (from -r requirements.txt (line 345)) (12.5.82)\n",
            "Requirement already satisfied: nvidia-cuda-nvcc-cu12==12.5.82 in /usr/local/lib/python3.11/dist-packages (from -r requirements.txt (line 346)) (12.5.82)\n",
            "Requirement already satisfied: nvidia-cuda-nvrtc-cu12==12.5.82 in /usr/local/lib/python3.11/dist-packages (from -r requirements.txt (line 347)) (12.5.82)\n",
            "Requirement already satisfied: nvidia-cuda-runtime-cu12==12.5.82 in /usr/local/lib/python3.11/dist-packages (from -r requirements.txt (line 348)) (12.5.82)\n",
            "Requirement already satisfied: nvidia-cudnn-cu12==9.3.0.75 in /usr/local/lib/python3.11/dist-packages (from -r requirements.txt (line 349)) (9.3.0.75)\n",
            "Requirement already satisfied: nvidia-cufft-cu12==11.2.3.61 in /usr/local/lib/python3.11/dist-packages (from -r requirements.txt (line 350)) (11.2.3.61)\n",
            "Requirement already satisfied: nvidia-curand-cu12==10.3.6.82 in /usr/local/lib/python3.11/dist-packages (from -r requirements.txt (line 351)) (10.3.6.82)\n",
            "Requirement already satisfied: nvidia-cusolver-cu12==11.6.3.83 in /usr/local/lib/python3.11/dist-packages (from -r requirements.txt (line 352)) (11.6.3.83)\n",
            "Requirement already satisfied: nvidia-cusparse-cu12==12.5.1.3 in /usr/local/lib/python3.11/dist-packages (from -r requirements.txt (line 353)) (12.5.1.3)\n",
            "Requirement already satisfied: nvidia-cusparselt-cu12==0.6.2 in /usr/local/lib/python3.11/dist-packages (from -r requirements.txt (line 354)) (0.6.2)\n",
            "Requirement already satisfied: nvidia-ml-py==12.575.51 in /usr/local/lib/python3.11/dist-packages (from -r requirements.txt (line 355)) (12.575.51)\n",
            "Requirement already satisfied: nvidia-nccl-cu12==2.21.5 in /usr/local/lib/python3.11/dist-packages (from -r requirements.txt (line 356)) (2.21.5)\n",
            "Requirement already satisfied: nvidia-nvjitlink-cu12==12.5.82 in /usr/local/lib/python3.11/dist-packages (from -r requirements.txt (line 357)) (12.5.82)\n",
            "Requirement already satisfied: nvidia-nvtx-cu12==12.4.127 in /usr/local/lib/python3.11/dist-packages (from -r requirements.txt (line 358)) (12.4.127)\n",
            "Requirement already satisfied: nvtx==0.2.12 in /usr/local/lib/python3.11/dist-packages (from -r requirements.txt (line 359)) (0.2.12)\n",
            "Requirement already satisfied: nx-cugraph-cu12==25.6.0 in /usr/local/lib/python3.11/dist-packages (from -r requirements.txt (line 360)) (25.6.0)\n",
            "Requirement already satisfied: oauth2client==4.1.3 in /usr/local/lib/python3.11/dist-packages (from -r requirements.txt (line 361)) (4.1.3)\n",
            "Requirement already satisfied: oauthlib==3.3.1 in /usr/local/lib/python3.11/dist-packages (from -r requirements.txt (line 362)) (3.3.1)\n",
            "Requirement already satisfied: omegaconf==2.3.0 in /usr/local/lib/python3.11/dist-packages (from -r requirements.txt (line 363)) (2.3.0)\n",
            "Requirement already satisfied: openai==1.97.1 in /usr/local/lib/python3.11/dist-packages (from -r requirements.txt (line 364)) (1.97.1)\n",
            "Requirement already satisfied: opencv-contrib-python==4.12.0.88 in /usr/local/lib/python3.11/dist-packages (from -r requirements.txt (line 365)) (4.12.0.88)\n",
            "Requirement already satisfied: opencv-python==4.12.0.88 in /usr/local/lib/python3.11/dist-packages (from -r requirements.txt (line 366)) (4.12.0.88)\n",
            "Requirement already satisfied: opencv-python-headless==4.12.0.88 in /usr/local/lib/python3.11/dist-packages (from -r requirements.txt (line 367)) (4.12.0.88)\n",
            "Requirement already satisfied: openpyxl==3.1.5 in /usr/local/lib/python3.11/dist-packages (from -r requirements.txt (line 368)) (3.1.5)\n",
            "Requirement already satisfied: opt_einsum==3.4.0 in /usr/local/lib/python3.11/dist-packages (from -r requirements.txt (line 369)) (3.4.0)\n",
            "Requirement already satisfied: optax==0.2.5 in /usr/local/lib/python3.11/dist-packages (from -r requirements.txt (line 370)) (0.2.5)\n",
            "Requirement already satisfied: optree==0.17.0 in /usr/local/lib/python3.11/dist-packages (from -r requirements.txt (line 371)) (0.17.0)\n",
            "Requirement already satisfied: orbax-checkpoint==0.11.19 in /usr/local/lib/python3.11/dist-packages (from -r requirements.txt (line 372)) (0.11.19)\n",
            "Requirement already satisfied: orjson==3.11.1 in /usr/local/lib/python3.11/dist-packages (from -r requirements.txt (line 373)) (3.11.1)\n",
            "Requirement already satisfied: osqp==1.0.4 in /usr/local/lib/python3.11/dist-packages (from -r requirements.txt (line 374)) (1.0.4)\n",
            "Collecting package_name==0.1 (from -r requirements.txt (line 375))\n",
            "  Downloading package_name-0.1.tar.gz (782 bytes)\n",
            "  Preparing metadata (setup.py) ... \u001b[?25l\u001b[?25hdone\n",
            "Requirement already satisfied: packaging==25.0 in /usr/local/lib/python3.11/dist-packages (from -r requirements.txt (line 376)) (25.0)\n",
            "Requirement already satisfied: pandas==2.2.2 in /usr/local/lib/python3.11/dist-packages (from -r requirements.txt (line 377)) (2.2.2)\n",
            "Requirement already satisfied: pandas-datareader==0.10.0 in /usr/local/lib/python3.11/dist-packages (from -r requirements.txt (line 378)) (0.10.0)\n",
            "Requirement already satisfied: pandas-gbq==0.29.2 in /usr/local/lib/python3.11/dist-packages (from -r requirements.txt (line 379)) (0.29.2)\n",
            "Requirement already satisfied: pandas-stubs==2.2.2.240909 in /usr/local/lib/python3.11/dist-packages (from -r requirements.txt (line 380)) (2.2.2.240909)\n",
            "Requirement already satisfied: pandocfilters==1.5.1 in /usr/local/lib/python3.11/dist-packages (from -r requirements.txt (line 381)) (1.5.1)\n",
            "Requirement already satisfied: panel==1.7.5 in /usr/local/lib/python3.11/dist-packages (from -r requirements.txt (line 382)) (1.7.5)\n",
            "Requirement already satisfied: param==2.2.1 in /usr/local/lib/python3.11/dist-packages (from -r requirements.txt (line 383)) (2.2.1)\n",
            "Requirement already satisfied: parso==0.8.4 in /usr/local/lib/python3.11/dist-packages (from -r requirements.txt (line 384)) (0.8.4)\n",
            "Requirement already satisfied: parsy==2.1 in /usr/local/lib/python3.11/dist-packages (from -r requirements.txt (line 385)) (2.1)\n",
            "Requirement already satisfied: partd==1.4.2 in /usr/local/lib/python3.11/dist-packages (from -r requirements.txt (line 386)) (1.4.2)\n",
            "Requirement already satisfied: patsy==1.0.1 in /usr/local/lib/python3.11/dist-packages (from -r requirements.txt (line 387)) (1.0.1)\n",
            "Requirement already satisfied: peewee==3.18.2 in /usr/local/lib/python3.11/dist-packages (from -r requirements.txt (line 388)) (3.18.2)\n",
            "Requirement already satisfied: peft==0.16.0 in /usr/local/lib/python3.11/dist-packages (from -r requirements.txt (line 389)) (0.16.0)\n",
            "Requirement already satisfied: pexpect==4.9.0 in /usr/local/lib/python3.11/dist-packages (from -r requirements.txt (line 390)) (4.9.0)\n",
            "Requirement already satisfied: pickleshare==0.7.5 in /usr/local/lib/python3.11/dist-packages (from -r requirements.txt (line 391)) (0.7.5)\n",
            "Requirement already satisfied: pillow==11.3.0 in /usr/local/lib/python3.11/dist-packages (from -r requirements.txt (line 392)) (11.3.0)\n",
            "Requirement already satisfied: pip==24.1.2 in /usr/local/lib/python3.11/dist-packages (from -r requirements.txt (line 393)) (24.1.2)\n",
            "Requirement already satisfied: platformdirs==4.3.8 in /usr/local/lib/python3.11/dist-packages (from -r requirements.txt (line 394)) (4.3.8)\n",
            "Requirement already satisfied: plotly==5.24.1 in /usr/local/lib/python3.11/dist-packages (from -r requirements.txt (line 395)) (5.24.1)\n",
            "Requirement already satisfied: plotnine==0.14.5 in /usr/local/lib/python3.11/dist-packages (from -r requirements.txt (line 396)) (0.14.5)\n",
            "Requirement already satisfied: pluggy==1.6.0 in /usr/local/lib/python3.11/dist-packages (from -r requirements.txt (line 397)) (1.6.0)\n",
            "Requirement already satisfied: ply==3.11 in /usr/local/lib/python3.11/dist-packages (from -r requirements.txt (line 398)) (3.11)\n",
            "Requirement already satisfied: polars==1.25.0 in /usr/local/lib/python3.11/dist-packages (from -r requirements.txt (line 399)) (1.25.0)\n",
            "Requirement already satisfied: pooch==1.8.2 in /usr/local/lib/python3.11/dist-packages (from -r requirements.txt (line 400)) (1.8.2)\n",
            "Requirement already satisfied: portpicker==1.5.2 in /usr/local/lib/python3.11/dist-packages (from -r requirements.txt (line 401)) (1.5.2)\n",
            "Requirement already satisfied: preshed==3.0.10 in /usr/local/lib/python3.11/dist-packages (from -r requirements.txt (line 402)) (3.0.10)\n",
            "Requirement already satisfied: prettytable==3.16.0 in /usr/local/lib/python3.11/dist-packages (from -r requirements.txt (line 403)) (3.16.0)\n",
            "Requirement already satisfied: proglog==0.1.12 in /usr/local/lib/python3.11/dist-packages (from -r requirements.txt (line 404)) (0.1.12)\n",
            "Requirement already satisfied: progressbar2==4.5.0 in /usr/local/lib/python3.11/dist-packages (from -r requirements.txt (line 405)) (4.5.0)\n",
            "Requirement already satisfied: prometheus_client==0.22.1 in /usr/local/lib/python3.11/dist-packages (from -r requirements.txt (line 406)) (0.22.1)\n",
            "Requirement already satisfied: promise==2.3 in /usr/local/lib/python3.11/dist-packages (from -r requirements.txt (line 407)) (2.3)\n",
            "Requirement already satisfied: prompt_toolkit==3.0.51 in /usr/local/lib/python3.11/dist-packages (from -r requirements.txt (line 408)) (3.0.51)\n",
            "Requirement already satisfied: propcache==0.3.2 in /usr/local/lib/python3.11/dist-packages (from -r requirements.txt (line 409)) (0.3.2)\n",
            "Requirement already satisfied: prophet==1.1.7 in /usr/local/lib/python3.11/dist-packages (from -r requirements.txt (line 410)) (1.1.7)\n",
            "Requirement already satisfied: proto-plus==1.26.1 in /usr/local/lib/python3.11/dist-packages (from -r requirements.txt (line 411)) (1.26.1)\n",
            "Requirement already satisfied: protobuf==5.29.5 in /usr/local/lib/python3.11/dist-packages (from -r requirements.txt (line 412)) (5.29.5)\n",
            "Requirement already satisfied: psutil==5.9.5 in /usr/local/lib/python3.11/dist-packages (from -r requirements.txt (line 413)) (5.9.5)\n",
            "Requirement already satisfied: psycopg2==2.9.10 in /usr/local/lib/python3.11/dist-packages (from -r requirements.txt (line 414)) (2.9.10)\n",
            "Requirement already satisfied: psygnal==0.14.0 in /usr/local/lib/python3.11/dist-packages (from -r requirements.txt (line 415)) (0.14.0)\n",
            "Requirement already satisfied: ptyprocess==0.7.0 in /usr/local/lib/python3.11/dist-packages (from -r requirements.txt (line 416)) (0.7.0)\n",
            "Requirement already satisfied: py-cpuinfo==9.0.0 in /usr/local/lib/python3.11/dist-packages (from -r requirements.txt (line 417)) (9.0.0)\n",
            "Requirement already satisfied: py4j==0.10.9.7 in /usr/local/lib/python3.11/dist-packages (from -r requirements.txt (line 418)) (0.10.9.7)\n",
            "Requirement already satisfied: pyarrow==18.1.0 in /usr/local/lib/python3.11/dist-packages (from -r requirements.txt (line 419)) (18.1.0)\n",
            "Requirement already satisfied: pyasn1==0.6.1 in /usr/local/lib/python3.11/dist-packages (from -r requirements.txt (line 420)) (0.6.1)\n",
            "Requirement already satisfied: pyasn1_modules==0.4.2 in /usr/local/lib/python3.11/dist-packages (from -r requirements.txt (line 421)) (0.4.2)\n",
            "Requirement already satisfied: pycairo==1.28.0 in /usr/local/lib/python3.11/dist-packages (from -r requirements.txt (line 422)) (1.28.0)\n",
            "Requirement already satisfied: pycocotools==2.0.10 in /usr/local/lib/python3.11/dist-packages (from -r requirements.txt (line 423)) (2.0.10)\n",
            "Requirement already satisfied: pycparser==2.22 in /usr/local/lib/python3.11/dist-packages (from -r requirements.txt (line 424)) (2.22)\n",
            "Requirement already satisfied: pycryptodomex==3.23.0 in /usr/local/lib/python3.11/dist-packages (from -r requirements.txt (line 425)) (3.23.0)\n",
            "Requirement already satisfied: pydantic==2.11.7 in /usr/local/lib/python3.11/dist-packages (from -r requirements.txt (line 426)) (2.11.7)\n",
            "Requirement already satisfied: pydantic_core==2.33.2 in /usr/local/lib/python3.11/dist-packages (from -r requirements.txt (line 427)) (2.33.2)\n",
            "Requirement already satisfied: pydata-google-auth==1.9.1 in /usr/local/lib/python3.11/dist-packages (from -r requirements.txt (line 428)) (1.9.1)\n",
            "Requirement already satisfied: pydot==3.0.4 in /usr/local/lib/python3.11/dist-packages (from -r requirements.txt (line 429)) (3.0.4)\n",
            "Requirement already satisfied: pydotplus==2.0.2 in /usr/local/lib/python3.11/dist-packages (from -r requirements.txt (line 430)) (2.0.2)\n",
            "Requirement already satisfied: PyDrive==1.3.1 in /usr/local/lib/python3.11/dist-packages (from -r requirements.txt (line 431)) (1.3.1)\n",
            "Requirement already satisfied: PyDrive2==1.21.3 in /usr/local/lib/python3.11/dist-packages (from -r requirements.txt (line 432)) (1.21.3)\n",
            "Requirement already satisfied: pydub==0.25.1 in /usr/local/lib/python3.11/dist-packages (from -r requirements.txt (line 433)) (0.25.1)\n",
            "Requirement already satisfied: pyerfa==2.0.1.5 in /usr/local/lib/python3.11/dist-packages (from -r requirements.txt (line 434)) (2.0.1.5)\n",
            "Requirement already satisfied: pygame==2.6.1 in /usr/local/lib/python3.11/dist-packages (from -r requirements.txt (line 435)) (2.6.1)\n",
            "Requirement already satisfied: pygit2==1.18.0 in /usr/local/lib/python3.11/dist-packages (from -r requirements.txt (line 436)) (1.18.0)\n",
            "Requirement already satisfied: Pygments==2.19.2 in /usr/local/lib/python3.11/dist-packages (from -r requirements.txt (line 437)) (2.19.2)\n",
            "Requirement already satisfied: PyGObject==3.42.0 in /usr/local/lib/python3.11/dist-packages (from -r requirements.txt (line 438)) (3.42.0)\n",
            "Requirement already satisfied: PyJWT==2.10.1 in /usr/local/lib/python3.11/dist-packages (from -r requirements.txt (line 439)) (2.10.1)\n",
            "Requirement already satisfied: pylibcudf-cu12==25.6.0 in /usr/local/lib/python3.11/dist-packages (from -r requirements.txt (line 440)) (25.6.0)\n",
            "Requirement already satisfied: pylibcugraph-cu12==25.6.0 in /usr/local/lib/python3.11/dist-packages (from -r requirements.txt (line 441)) (25.6.0)\n",
            "Requirement already satisfied: pylibraft-cu12==25.6.0 in /usr/local/lib/python3.11/dist-packages (from -r requirements.txt (line 442)) (25.6.0)\n",
            "Requirement already satisfied: pymc==5.25.1 in /usr/local/lib/python3.11/dist-packages (from -r requirements.txt (line 443)) (5.25.1)\n",
            "Requirement already satisfied: pynndescent==0.5.13 in /usr/local/lib/python3.11/dist-packages (from -r requirements.txt (line 444)) (0.5.13)\n",
            "Requirement already satisfied: pynvjitlink-cu12==0.7.0 in /usr/local/lib/python3.11/dist-packages (from -r requirements.txt (line 445)) (0.7.0)\n",
            "Requirement already satisfied: pynvml==12.0.0 in /usr/local/lib/python3.11/dist-packages (from -r requirements.txt (line 446)) (12.0.0)\n",
            "Requirement already satisfied: pyogrio==0.11.0 in /usr/local/lib/python3.11/dist-packages (from -r requirements.txt (line 447)) (0.11.0)\n",
            "Requirement already satisfied: pyomo==6.9.2 in /usr/local/lib/python3.11/dist-packages (from -r requirements.txt (line 448)) (6.9.2)\n",
            "Requirement already satisfied: PyOpenGL==3.1.9 in /usr/local/lib/python3.11/dist-packages (from -r requirements.txt (line 449)) (3.1.9)\n",
            "Requirement already satisfied: pyOpenSSL==24.2.1 in /usr/local/lib/python3.11/dist-packages (from -r requirements.txt (line 450)) (24.2.1)\n",
            "Requirement already satisfied: pyparsing==3.2.3 in /usr/local/lib/python3.11/dist-packages (from -r requirements.txt (line 451)) (3.2.3)\n",
            "Requirement already satisfied: pyperclip==1.9.0 in /usr/local/lib/python3.11/dist-packages (from -r requirements.txt (line 452)) (1.9.0)\n",
            "Requirement already satisfied: pyproj==3.7.1 in /usr/local/lib/python3.11/dist-packages (from -r requirements.txt (line 453)) (3.7.1)\n",
            "Requirement already satisfied: pyproject_hooks==1.2.0 in /usr/local/lib/python3.11/dist-packages (from -r requirements.txt (line 454)) (1.2.0)\n",
            "Requirement already satisfied: pyshp==2.3.1 in /usr/local/lib/python3.11/dist-packages (from -r requirements.txt (line 455)) (2.3.1)\n",
            "Requirement already satisfied: PySocks==1.7.1 in /usr/local/lib/python3.11/dist-packages (from -r requirements.txt (line 456)) (1.7.1)\n",
            "Requirement already satisfied: pyspark==3.5.1 in /usr/local/lib/python3.11/dist-packages (from -r requirements.txt (line 457)) (3.5.1)\n",
            "Requirement already satisfied: pytensor==2.31.7 in /usr/local/lib/python3.11/dist-packages (from -r requirements.txt (line 458)) (2.31.7)\n",
            "Requirement already satisfied: pytest==8.4.1 in /usr/local/lib/python3.11/dist-packages (from -r requirements.txt (line 459)) (8.4.1)\n",
            "Requirement already satisfied: python-apt==0.0.0 in /usr/local/lib/python3.11/dist-packages (from -r requirements.txt (line 460)) (0.0.0)\n",
            "Requirement already satisfied: python-box==7.3.2 in /usr/local/lib/python3.11/dist-packages (from -r requirements.txt (line 461)) (7.3.2)\n",
            "Requirement already satisfied: python-dateutil==2.9.0.post0 in /usr/local/lib/python3.11/dist-packages (from -r requirements.txt (line 462)) (2.9.0.post0)\n",
            "Requirement already satisfied: python-louvain==0.16 in /usr/local/lib/python3.11/dist-packages (from -r requirements.txt (line 463)) (0.16)\n",
            "Requirement already satisfied: python-multipart==0.0.20 in /usr/local/lib/python3.11/dist-packages (from -r requirements.txt (line 464)) (0.0.20)\n",
            "Requirement already satisfied: python-slugify==8.0.4 in /usr/local/lib/python3.11/dist-packages (from -r requirements.txt (line 465)) (8.0.4)\n",
            "Requirement already satisfied: python-snappy==0.7.3 in /usr/local/lib/python3.11/dist-packages (from -r requirements.txt (line 466)) (0.7.3)\n",
            "Requirement already satisfied: python-utils==3.9.1 in /usr/local/lib/python3.11/dist-packages (from -r requirements.txt (line 467)) (3.9.1)\n",
            "Requirement already satisfied: pytz==2025.2 in /usr/local/lib/python3.11/dist-packages (from -r requirements.txt (line 468)) (2025.2)\n",
            "Requirement already satisfied: pyviz_comms==3.0.6 in /usr/local/lib/python3.11/dist-packages (from -r requirements.txt (line 469)) (3.0.6)\n",
            "Requirement already satisfied: PyWavelets==1.8.0 in /usr/local/lib/python3.11/dist-packages (from -r requirements.txt (line 470)) (1.8.0)\n",
            "Requirement already satisfied: PyYAML==6.0.2 in /usr/local/lib/python3.11/dist-packages (from -r requirements.txt (line 471)) (6.0.2)\n",
            "Requirement already satisfied: pyzmq==26.2.1 in /usr/local/lib/python3.11/dist-packages (from -r requirements.txt (line 472)) (26.2.1)\n",
            "Requirement already satisfied: raft-dask-cu12==25.6.0 in /usr/local/lib/python3.11/dist-packages (from -r requirements.txt (line 473)) (25.6.0)\n",
            "Requirement already satisfied: rapids-dask-dependency==25.6.0 in /usr/local/lib/python3.11/dist-packages (from -r requirements.txt (line 474)) (25.6.0)\n",
            "Requirement already satisfied: rapids-logger==0.1.1 in /usr/local/lib/python3.11/dist-packages (from -r requirements.txt (line 475)) (0.1.1)\n",
            "Requirement already satisfied: ratelim==0.1.6 in /usr/local/lib/python3.11/dist-packages (from -r requirements.txt (line 476)) (0.1.6)\n",
            "Requirement already satisfied: referencing==0.36.2 in /usr/local/lib/python3.11/dist-packages (from -r requirements.txt (line 477)) (0.36.2)\n",
            "Requirement already satisfied: regex==2024.11.6 in /usr/local/lib/python3.11/dist-packages (from -r requirements.txt (line 478)) (2024.11.6)\n",
            "Requirement already satisfied: requests==2.32.3 in /usr/local/lib/python3.11/dist-packages (from -r requirements.txt (line 479)) (2.32.3)\n",
            "Requirement already satisfied: requests-oauthlib==2.0.0 in /usr/local/lib/python3.11/dist-packages (from -r requirements.txt (line 480)) (2.0.0)\n",
            "Requirement already satisfied: requests-toolbelt==1.0.0 in /usr/local/lib/python3.11/dist-packages (from -r requirements.txt (line 481)) (1.0.0)\n",
            "Requirement already satisfied: requirements-parser==0.9.0 in /usr/local/lib/python3.11/dist-packages (from -r requirements.txt (line 482)) (0.9.0)\n",
            "Requirement already satisfied: rich==13.9.4 in /usr/local/lib/python3.11/dist-packages (from -r requirements.txt (line 483)) (13.9.4)\n",
            "Requirement already satisfied: rmm-cu12==25.6.0 in /usr/local/lib/python3.11/dist-packages (from -r requirements.txt (line 484)) (25.6.0)\n",
            "Requirement already satisfied: roman-numerals-py==3.1.0 in /usr/local/lib/python3.11/dist-packages (from -r requirements.txt (line 485)) (3.1.0)\n",
            "Requirement already satisfied: rpds-py==0.26.0 in /usr/local/lib/python3.11/dist-packages (from -r requirements.txt (line 486)) (0.26.0)\n",
            "Requirement already satisfied: rpy2==3.5.17 in /usr/local/lib/python3.11/dist-packages (from -r requirements.txt (line 487)) (3.5.17)\n",
            "Requirement already satisfied: rsa==4.9.1 in /usr/local/lib/python3.11/dist-packages (from -r requirements.txt (line 488)) (4.9.1)\n",
            "Requirement already satisfied: ruff==0.12.5 in /usr/local/lib/python3.11/dist-packages (from -r requirements.txt (line 489)) (0.12.5)\n",
            "Requirement already satisfied: safehttpx==0.1.6 in /usr/local/lib/python3.11/dist-packages (from -r requirements.txt (line 490)) (0.1.6)\n",
            "Requirement already satisfied: safetensors==0.5.3 in /usr/local/lib/python3.11/dist-packages (from -r requirements.txt (line 491)) (0.5.3)\n",
            "Requirement already satisfied: scikit-image==0.25.2 in /usr/local/lib/python3.11/dist-packages (from -r requirements.txt (line 492)) (0.25.2)\n",
            "Requirement already satisfied: scikit-learn==1.6.1 in /usr/local/lib/python3.11/dist-packages (from -r requirements.txt (line 493)) (1.6.1)\n",
            "Requirement already satisfied: scipy==1.9.3 in /usr/local/lib/python3.11/dist-packages (from -r requirements.txt (line 494)) (1.9.3)\n",
            "Requirement already satisfied: scooby==0.10.1 in /usr/local/lib/python3.11/dist-packages (from -r requirements.txt (line 495)) (0.10.1)\n",
            "Requirement already satisfied: scs==3.2.7.post2 in /usr/local/lib/python3.11/dist-packages (from -r requirements.txt (line 496)) (3.2.7.post2)\n",
            "Requirement already satisfied: seaborn==0.13.2 in /usr/local/lib/python3.11/dist-packages (from -r requirements.txt (line 497)) (0.13.2)\n",
            "Requirement already satisfied: SecretStorage==3.3.3 in /usr/local/lib/python3.11/dist-packages (from -r requirements.txt (line 498)) (3.3.3)\n",
            "Requirement already satisfied: semantic-version==2.10.0 in /usr/local/lib/python3.11/dist-packages (from -r requirements.txt (line 499)) (2.10.0)\n",
            "Requirement already satisfied: Send2Trash==1.8.3 in /usr/local/lib/python3.11/dist-packages (from -r requirements.txt (line 500)) (1.8.3)\n",
            "Requirement already satisfied: sentence-transformers==4.1.0 in /usr/local/lib/python3.11/dist-packages (from -r requirements.txt (line 501)) (4.1.0)\n",
            "Requirement already satisfied: sentencepiece==0.2.0 in /usr/local/lib/python3.11/dist-packages (from -r requirements.txt (line 502)) (0.2.0)\n",
            "Requirement already satisfied: sentry-sdk==2.33.2 in /usr/local/lib/python3.11/dist-packages (from -r requirements.txt (line 503)) (2.33.2)\n",
            "Requirement already satisfied: setuptools==75.2.0 in /usr/local/lib/python3.11/dist-packages (from -r requirements.txt (line 504)) (75.2.0)\n",
            "Requirement already satisfied: shap==0.48.0 in /usr/local/lib/python3.11/dist-packages (from -r requirements.txt (line 505)) (0.48.0)\n",
            "Requirement already satisfied: shapely==2.1.1 in /usr/local/lib/python3.11/dist-packages (from -r requirements.txt (line 506)) (2.1.1)\n",
            "Requirement already satisfied: shellingham==1.5.4 in /usr/local/lib/python3.11/dist-packages (from -r requirements.txt (line 507)) (1.5.4)\n",
            "Requirement already satisfied: simple-parsing==0.1.7 in /usr/local/lib/python3.11/dist-packages (from -r requirements.txt (line 508)) (0.1.7)\n",
            "Requirement already satisfied: simplejson==3.20.1 in /usr/local/lib/python3.11/dist-packages (from -r requirements.txt (line 509)) (3.20.1)\n",
            "Requirement already satisfied: simsimd==6.5.0 in /usr/local/lib/python3.11/dist-packages (from -r requirements.txt (line 510)) (6.5.0)\n",
            "Requirement already satisfied: six==1.17.0 in /usr/local/lib/python3.11/dist-packages (from -r requirements.txt (line 511)) (1.17.0)\n",
            "Requirement already satisfied: sklearn-compat==0.1.3 in /usr/local/lib/python3.11/dist-packages (from -r requirements.txt (line 512)) (0.1.3)\n",
            "Requirement already satisfied: sklearn-pandas==2.2.0 in /usr/local/lib/python3.11/dist-packages (from -r requirements.txt (line 513)) (2.2.0)\n",
            "Requirement already satisfied: slicer==0.0.8 in /usr/local/lib/python3.11/dist-packages (from -r requirements.txt (line 514)) (0.0.8)\n",
            "Requirement already satisfied: smart_open==7.3.0.post1 in /usr/local/lib/python3.11/dist-packages (from -r requirements.txt (line 515)) (7.3.0.post1)\n",
            "Requirement already satisfied: smmap==5.0.2 in /usr/local/lib/python3.11/dist-packages (from -r requirements.txt (line 516)) (5.0.2)\n",
            "Requirement already satisfied: sniffio==1.3.1 in /usr/local/lib/python3.11/dist-packages (from -r requirements.txt (line 517)) (1.3.1)\n",
            "Requirement already satisfied: snowballstemmer==3.0.1 in /usr/local/lib/python3.11/dist-packages (from -r requirements.txt (line 518)) (3.0.1)\n",
            "Requirement already satisfied: sortedcontainers==2.4.0 in /usr/local/lib/python3.11/dist-packages (from -r requirements.txt (line 519)) (2.4.0)\n",
            "Requirement already satisfied: soundfile==0.13.1 in /usr/local/lib/python3.11/dist-packages (from -r requirements.txt (line 520)) (0.13.1)\n",
            "Requirement already satisfied: soupsieve==2.7 in /usr/local/lib/python3.11/dist-packages (from -r requirements.txt (line 521)) (2.7)\n",
            "Requirement already satisfied: soxr==0.5.0.post1 in /usr/local/lib/python3.11/dist-packages (from -r requirements.txt (line 522)) (0.5.0.post1)\n",
            "Requirement already satisfied: spacy==3.8.7 in /usr/local/lib/python3.11/dist-packages (from -r requirements.txt (line 523)) (3.8.7)\n",
            "Requirement already satisfied: spacy-legacy==3.0.12 in /usr/local/lib/python3.11/dist-packages (from -r requirements.txt (line 524)) (3.0.12)\n",
            "Requirement already satisfied: spacy-loggers==1.0.5 in /usr/local/lib/python3.11/dist-packages (from -r requirements.txt (line 525)) (1.0.5)\n",
            "Requirement already satisfied: spanner-graph-notebook==1.1.6 in /usr/local/lib/python3.11/dist-packages (from -r requirements.txt (line 526)) (1.1.6)\n",
            "Requirement already satisfied: Sphinx==8.2.3 in /usr/local/lib/python3.11/dist-packages (from -r requirements.txt (line 527)) (8.2.3)\n",
            "Requirement already satisfied: sphinxcontrib-applehelp==2.0.0 in /usr/local/lib/python3.11/dist-packages (from -r requirements.txt (line 528)) (2.0.0)\n",
            "Requirement already satisfied: sphinxcontrib-devhelp==2.0.0 in /usr/local/lib/python3.11/dist-packages (from -r requirements.txt (line 529)) (2.0.0)\n",
            "Requirement already satisfied: sphinxcontrib-htmlhelp==2.1.0 in /usr/local/lib/python3.11/dist-packages (from -r requirements.txt (line 530)) (2.1.0)\n",
            "Requirement already satisfied: sphinxcontrib-jsmath==1.0.1 in /usr/local/lib/python3.11/dist-packages (from -r requirements.txt (line 531)) (1.0.1)\n",
            "Requirement already satisfied: sphinxcontrib-qthelp==2.0.0 in /usr/local/lib/python3.11/dist-packages (from -r requirements.txt (line 532)) (2.0.0)\n",
            "Requirement already satisfied: sphinxcontrib-serializinghtml==2.0.0 in /usr/local/lib/python3.11/dist-packages (from -r requirements.txt (line 533)) (2.0.0)\n",
            "Requirement already satisfied: SQLAlchemy==2.0.41 in /usr/local/lib/python3.11/dist-packages (from -r requirements.txt (line 534)) (2.0.41)\n",
            "Requirement already satisfied: sqlglot==25.20.2 in /usr/local/lib/python3.11/dist-packages (from -r requirements.txt (line 535)) (25.20.2)\n",
            "Requirement already satisfied: sqlparse==0.5.3 in /usr/local/lib/python3.11/dist-packages (from -r requirements.txt (line 536)) (0.5.3)\n",
            "Requirement already satisfied: srsly==2.5.1 in /usr/local/lib/python3.11/dist-packages (from -r requirements.txt (line 537)) (2.5.1)\n",
            "Requirement already satisfied: stanio==0.5.1 in /usr/local/lib/python3.11/dist-packages (from -r requirements.txt (line 538)) (0.5.1)\n",
            "Requirement already satisfied: starlette==0.47.2 in /usr/local/lib/python3.11/dist-packages (from -r requirements.txt (line 539)) (0.47.2)\n",
            "Requirement already satisfied: statsmodels==0.14.5 in /usr/local/lib/python3.11/dist-packages (from -r requirements.txt (line 540)) (0.14.5)\n",
            "Requirement already satisfied: stringzilla==3.12.5 in /usr/local/lib/python3.11/dist-packages (from -r requirements.txt (line 541)) (3.12.5)\n",
            "Requirement already satisfied: stumpy==1.13.0 in /usr/local/lib/python3.11/dist-packages (from -r requirements.txt (line 542)) (1.13.0)\n",
            "Requirement already satisfied: sympy==1.13.1 in /usr/local/lib/python3.11/dist-packages (from -r requirements.txt (line 543)) (1.13.1)\n",
            "Requirement already satisfied: tables==3.10.2 in /usr/local/lib/python3.11/dist-packages (from -r requirements.txt (line 544)) (3.10.2)\n",
            "Requirement already satisfied: tabulate==0.9.0 in /usr/local/lib/python3.11/dist-packages (from -r requirements.txt (line 545)) (0.9.0)\n",
            "Requirement already satisfied: tbb==2022.2.0 in /usr/local/lib/python3.11/dist-packages (from -r requirements.txt (line 546)) (2022.2.0)\n",
            "Requirement already satisfied: tblib==3.1.0 in /usr/local/lib/python3.11/dist-packages (from -r requirements.txt (line 547)) (3.1.0)\n",
            "Requirement already satisfied: tcmlib==1.4.0 in /usr/local/lib/python3.11/dist-packages (from -r requirements.txt (line 548)) (1.4.0)\n",
            "Requirement already satisfied: tenacity==8.5.0 in /usr/local/lib/python3.11/dist-packages (from -r requirements.txt (line 549)) (8.5.0)\n",
            "Requirement already satisfied: tensorboard==2.18.0 in /usr/local/lib/python3.11/dist-packages (from -r requirements.txt (line 550)) (2.18.0)\n",
            "Requirement already satisfied: tensorboard-data-server==0.7.2 in /usr/local/lib/python3.11/dist-packages (from -r requirements.txt (line 551)) (0.7.2)\n",
            "Requirement already satisfied: tensorflow==2.18.0 in /usr/local/lib/python3.11/dist-packages (from -r requirements.txt (line 552)) (2.18.0)\n",
            "Requirement already satisfied: tensorflow-datasets==4.9.9 in /usr/local/lib/python3.11/dist-packages (from -r requirements.txt (line 553)) (4.9.9)\n",
            "Requirement already satisfied: tensorflow_decision_forests==1.11.0 in /usr/local/lib/python3.11/dist-packages (from -r requirements.txt (line 554)) (1.11.0)\n",
            "Requirement already satisfied: tensorflow-hub==0.16.1 in /usr/local/lib/python3.11/dist-packages (from -r requirements.txt (line 555)) (0.16.1)\n",
            "Requirement already satisfied: tensorflow-io-gcs-filesystem==0.37.1 in /usr/local/lib/python3.11/dist-packages (from -r requirements.txt (line 556)) (0.37.1)\n",
            "Requirement already satisfied: tensorflow-metadata==1.17.2 in /usr/local/lib/python3.11/dist-packages (from -r requirements.txt (line 557)) (1.17.2)\n",
            "Requirement already satisfied: tensorflow-probability==0.25.0 in /usr/local/lib/python3.11/dist-packages (from -r requirements.txt (line 558)) (0.25.0)\n",
            "Requirement already satisfied: tensorflow-text==2.18.1 in /usr/local/lib/python3.11/dist-packages (from -r requirements.txt (line 559)) (2.18.1)\n",
            "Requirement already satisfied: tensorstore==0.1.74 in /usr/local/lib/python3.11/dist-packages (from -r requirements.txt (line 560)) (0.1.74)\n",
            "Requirement already satisfied: termcolor==3.1.0 in /usr/local/lib/python3.11/dist-packages (from -r requirements.txt (line 561)) (3.1.0)\n",
            "Requirement already satisfied: terminado==0.18.1 in /usr/local/lib/python3.11/dist-packages (from -r requirements.txt (line 562)) (0.18.1)\n",
            "Requirement already satisfied: text-unidecode==1.3 in /usr/local/lib/python3.11/dist-packages (from -r requirements.txt (line 563)) (1.3)\n",
            "Requirement already satisfied: textblob==0.19.0 in /usr/local/lib/python3.11/dist-packages (from -r requirements.txt (line 564)) (0.19.0)\n",
            "Requirement already satisfied: tf_keras==2.18.0 in /usr/local/lib/python3.11/dist-packages (from -r requirements.txt (line 565)) (2.18.0)\n",
            "Requirement already satisfied: tf-slim==1.1.0 in /usr/local/lib/python3.11/dist-packages (from -r requirements.txt (line 566)) (1.1.0)\n",
            "Requirement already satisfied: thinc==8.3.6 in /usr/local/lib/python3.11/dist-packages (from -r requirements.txt (line 567)) (8.3.6)\n",
            "Requirement already satisfied: threadpoolctl==3.6.0 in /usr/local/lib/python3.11/dist-packages (from -r requirements.txt (line 568)) (3.6.0)\n",
            "Requirement already satisfied: tifffile==2025.6.11 in /usr/local/lib/python3.11/dist-packages (from -r requirements.txt (line 569)) (2025.6.11)\n",
            "Requirement already satisfied: tiktoken==0.9.0 in /usr/local/lib/python3.11/dist-packages (from -r requirements.txt (line 570)) (0.9.0)\n",
            "Requirement already satisfied: timm==1.0.19 in /usr/local/lib/python3.11/dist-packages (from -r requirements.txt (line 571)) (1.0.19)\n",
            "Requirement already satisfied: tinycss2==1.4.0 in /usr/local/lib/python3.11/dist-packages (from -r requirements.txt (line 572)) (1.4.0)\n",
            "Requirement already satisfied: tokenizers==0.21.2 in /usr/local/lib/python3.11/dist-packages (from -r requirements.txt (line 573)) (0.21.2)\n",
            "Requirement already satisfied: toml==0.10.2 in /usr/local/lib/python3.11/dist-packages (from -r requirements.txt (line 574)) (0.10.2)\n",
            "Requirement already satisfied: tomlkit==0.13.3 in /usr/local/lib/python3.11/dist-packages (from -r requirements.txt (line 575)) (0.13.3)\n",
            "Requirement already satisfied: toolz==0.12.1 in /usr/local/lib/python3.11/dist-packages (from -r requirements.txt (line 576)) (0.12.1)\n",
            "Requirement already satisfied: torch==2.6.0+cu124 in /usr/local/lib/python3.11/dist-packages (from -r requirements.txt (line 577)) (2.6.0+cu124)\n",
            "Requirement already satisfied: torchao==0.10.0 in /usr/local/lib/python3.11/dist-packages (from -r requirements.txt (line 578)) (0.10.0)\n",
            "Requirement already satisfied: torchaudio==2.6.0+cu124 in /usr/local/lib/python3.11/dist-packages (from -r requirements.txt (line 579)) (2.6.0+cu124)\n",
            "Requirement already satisfied: torchdata==0.11.0 in /usr/local/lib/python3.11/dist-packages (from -r requirements.txt (line 580)) (0.11.0)\n",
            "Requirement already satisfied: torchsummary==1.5.1 in /usr/local/lib/python3.11/dist-packages (from -r requirements.txt (line 581)) (1.5.1)\n",
            "Requirement already satisfied: torchtune==0.6.1 in /usr/local/lib/python3.11/dist-packages (from -r requirements.txt (line 582)) (0.6.1)\n",
            "Requirement already satisfied: torchvision==0.21.0+cu124 in /usr/local/lib/python3.11/dist-packages (from -r requirements.txt (line 583)) (0.21.0+cu124)\n",
            "Requirement already satisfied: tornado==6.4.2 in /usr/local/lib/python3.11/dist-packages (from -r requirements.txt (line 584)) (6.4.2)\n",
            "Requirement already satisfied: tqdm==4.67.1 in /usr/local/lib/python3.11/dist-packages (from -r requirements.txt (line 585)) (4.67.1)\n",
            "Requirement already satisfied: traitlets==5.7.1 in /usr/local/lib/python3.11/dist-packages (from -r requirements.txt (line 586)) (5.7.1)\n",
            "Requirement already satisfied: traittypes==0.2.1 in /usr/local/lib/python3.11/dist-packages (from -r requirements.txt (line 587)) (0.2.1)\n",
            "Requirement already satisfied: transformers==4.54.0 in /usr/local/lib/python3.11/dist-packages (from -r requirements.txt (line 588)) (4.54.0)\n",
            "Requirement already satisfied: treelite==4.4.1 in /usr/local/lib/python3.11/dist-packages (from -r requirements.txt (line 589)) (4.4.1)\n",
            "Requirement already satisfied: treescope==0.1.9 in /usr/local/lib/python3.11/dist-packages (from -r requirements.txt (line 590)) (0.1.9)\n",
            "Requirement already satisfied: triton==3.2.0 in /usr/local/lib/python3.11/dist-packages (from -r requirements.txt (line 591)) (3.2.0)\n",
            "Requirement already satisfied: tsfresh==0.21.0 in /usr/local/lib/python3.11/dist-packages (from -r requirements.txt (line 592)) (0.21.0)\n",
            "Requirement already satisfied: tweepy==4.16.0 in /usr/local/lib/python3.11/dist-packages (from -r requirements.txt (line 593)) (4.16.0)\n",
            "Requirement already satisfied: typeguard==4.4.4 in /usr/local/lib/python3.11/dist-packages (from -r requirements.txt (line 594)) (4.4.4)\n",
            "Requirement already satisfied: typer==0.16.0 in /usr/local/lib/python3.11/dist-packages (from -r requirements.txt (line 595)) (0.16.0)\n",
            "Requirement already satisfied: types-pytz==2025.2.0.20250516 in /usr/local/lib/python3.11/dist-packages (from -r requirements.txt (line 596)) (2025.2.0.20250516)\n",
            "Requirement already satisfied: types-setuptools==80.9.0.20250529 in /usr/local/lib/python3.11/dist-packages (from -r requirements.txt (line 597)) (80.9.0.20250529)\n",
            "Requirement already satisfied: typing_extensions==4.14.1 in /usr/local/lib/python3.11/dist-packages (from -r requirements.txt (line 598)) (4.14.1)\n",
            "Requirement already satisfied: typing-inspection==0.4.1 in /usr/local/lib/python3.11/dist-packages (from -r requirements.txt (line 599)) (0.4.1)\n",
            "Requirement already satisfied: tzdata==2025.2 in /usr/local/lib/python3.11/dist-packages (from -r requirements.txt (line 600)) (2025.2)\n",
            "Requirement already satisfied: tzlocal==5.3.1 in /usr/local/lib/python3.11/dist-packages (from -r requirements.txt (line 601)) (5.3.1)\n",
            "Requirement already satisfied: uc-micro-py==1.0.3 in /usr/local/lib/python3.11/dist-packages (from -r requirements.txt (line 602)) (1.0.3)\n",
            "Requirement already satisfied: ucx-py-cu12==0.44.0 in /usr/local/lib/python3.11/dist-packages (from -r requirements.txt (line 603)) (0.44.0)\n",
            "Requirement already satisfied: ucxx-cu12==0.44.0 in /usr/local/lib/python3.11/dist-packages (from -r requirements.txt (line 604)) (0.44.0)\n",
            "Requirement already satisfied: umap-learn==0.5.9.post2 in /usr/local/lib/python3.11/dist-packages (from -r requirements.txt (line 605)) (0.5.9.post2)\n",
            "Requirement already satisfied: umf==0.11.0 in /usr/local/lib/python3.11/dist-packages (from -r requirements.txt (line 606)) (0.11.0)\n",
            "Requirement already satisfied: uritemplate==4.2.0 in /usr/local/lib/python3.11/dist-packages (from -r requirements.txt (line 607)) (4.2.0)\n",
            "Requirement already satisfied: urllib3==2.5.0 in /usr/local/lib/python3.11/dist-packages (from -r requirements.txt (line 608)) (2.5.0)\n",
            "Requirement already satisfied: uvicorn==0.35.0 in /usr/local/lib/python3.11/dist-packages (from -r requirements.txt (line 609)) (0.35.0)\n",
            "Requirement already satisfied: vega-datasets==0.9.0 in /usr/local/lib/python3.11/dist-packages (from -r requirements.txt (line 610)) (0.9.0)\n",
            "Requirement already satisfied: wadllib==1.3.6 in /usr/lib/python3/dist-packages (from -r requirements.txt (line 611)) (1.3.6)\n",
            "Requirement already satisfied: wandb==0.21.0 in /usr/local/lib/python3.11/dist-packages (from -r requirements.txt (line 612)) (0.21.0)\n",
            "Requirement already satisfied: wasabi==1.1.3 in /usr/local/lib/python3.11/dist-packages (from -r requirements.txt (line 613)) (1.1.3)\n",
            "Requirement already satisfied: wcwidth==0.2.13 in /usr/local/lib/python3.11/dist-packages (from -r requirements.txt (line 614)) (0.2.13)\n",
            "Requirement already satisfied: weasel==0.4.1 in /usr/local/lib/python3.11/dist-packages (from -r requirements.txt (line 615)) (0.4.1)\n",
            "Requirement already satisfied: webcolors==24.11.1 in /usr/local/lib/python3.11/dist-packages (from -r requirements.txt (line 616)) (24.11.1)\n",
            "Requirement already satisfied: webencodings==0.5.1 in /usr/local/lib/python3.11/dist-packages (from -r requirements.txt (line 617)) (0.5.1)\n",
            "Requirement already satisfied: websocket-client==1.8.0 in /usr/local/lib/python3.11/dist-packages (from -r requirements.txt (line 618)) (1.8.0)\n",
            "Requirement already satisfied: websockets==15.0.1 in /usr/local/lib/python3.11/dist-packages (from -r requirements.txt (line 619)) (15.0.1)\n",
            "Requirement already satisfied: Werkzeug==3.1.3 in /usr/local/lib/python3.11/dist-packages (from -r requirements.txt (line 620)) (3.1.3)\n",
            "Requirement already satisfied: wheel==0.45.1 in /usr/local/lib/python3.11/dist-packages (from -r requirements.txt (line 621)) (0.45.1)\n",
            "Requirement already satisfied: widgetsnbextension==3.6.10 in /usr/local/lib/python3.11/dist-packages (from -r requirements.txt (line 622)) (3.6.10)\n",
            "Requirement already satisfied: wordcloud==1.9.4 in /usr/local/lib/python3.11/dist-packages (from -r requirements.txt (line 623)) (1.9.4)\n",
            "Requirement already satisfied: wrapt==1.17.2 in /usr/local/lib/python3.11/dist-packages (from -r requirements.txt (line 624)) (1.17.2)\n",
            "Requirement already satisfied: wurlitzer==3.1.1 in /usr/local/lib/python3.11/dist-packages (from -r requirements.txt (line 625)) (3.1.1)\n",
            "Requirement already satisfied: xarray==2025.7.1 in /usr/local/lib/python3.11/dist-packages (from -r requirements.txt (line 626)) (2025.7.1)\n",
            "Requirement already satisfied: xarray-einstats==0.9.1 in /usr/local/lib/python3.11/dist-packages (from -r requirements.txt (line 627)) (0.9.1)\n",
            "Requirement already satisfied: xgboost==3.0.2 in /usr/local/lib/python3.11/dist-packages (from -r requirements.txt (line 628)) (3.0.2)\n",
            "Requirement already satisfied: xlrd==2.0.2 in /usr/local/lib/python3.11/dist-packages (from -r requirements.txt (line 629)) (2.0.2)\n",
            "Requirement already satisfied: xxhash==3.5.0 in /usr/local/lib/python3.11/dist-packages (from -r requirements.txt (line 630)) (3.5.0)\n",
            "Requirement already satisfied: xyzservices==2025.4.0 in /usr/local/lib/python3.11/dist-packages (from -r requirements.txt (line 631)) (2025.4.0)\n",
            "Requirement already satisfied: yarl==1.20.1 in /usr/local/lib/python3.11/dist-packages (from -r requirements.txt (line 632)) (1.20.1)\n",
            "Requirement already satisfied: ydf==0.13.0 in /usr/local/lib/python3.11/dist-packages (from -r requirements.txt (line 633)) (0.13.0)\n",
            "Requirement already satisfied: yellowbrick==1.5 in /usr/local/lib/python3.11/dist-packages (from -r requirements.txt (line 634)) (1.5)\n",
            "Requirement already satisfied: yfinance==0.2.65 in /usr/local/lib/python3.11/dist-packages (from -r requirements.txt (line 635)) (0.2.65)\n",
            "Requirement already satisfied: zict==3.0.0 in /usr/local/lib/python3.11/dist-packages (from -r requirements.txt (line 636)) (3.0.0)\n",
            "Requirement already satisfied: zipp==3.23.0 in /usr/local/lib/python3.11/dist-packages (from -r requirements.txt (line 637)) (3.23.0)\n",
            "Requirement already satisfied: zstandard==0.23.0 in /usr/local/lib/python3.11/dist-packages (from -r requirements.txt (line 638)) (0.23.0)\n",
            "INFO: pip is looking at multiple versions of albumentations to determine which version is compatible with other requirements. This could take a while.\n",
            "\u001b[31mERROR: Cannot install albumentations==2.0.8 and scipy==1.9.3 because these package versions have conflicting dependencies.\u001b[0m\u001b[31m\n",
            "\u001b[0m\n",
            "The conflict is caused by:\n",
            "    The user requested scipy==1.9.3\n",
            "    albumentations 2.0.8 depends on scipy>=1.10.0\n",
            "\n",
            "To fix this you could try to:\n",
            "1. loosen the range of package versions you've specified\n",
            "2. remove package versions to allow pip to attempt to solve the dependency conflict\n",
            "\n",
            "\u001b[31mERROR: ResolutionImpossible: for help visit https://pip.pypa.io/en/latest/topics/dependency-resolution/#dealing-with-dependency-conflicts\u001b[0m\u001b[31m\n",
            "\u001b[0m"
          ]
        }
      ],
      "source": [
        "!pip install -r requirements.txt"
      ]
    },
    {
      "cell_type": "code",
      "execution_count": 3,
      "metadata": {
        "colab": {
          "base_uri": "https://localhost:8080/"
        },
        "id": "auso5s6tIs7r",
        "outputId": "d9a9494c-2d5c-4112-ee11-808fe6dc71c6"
      },
      "outputs": [
        {
          "name": "stdout",
          "output_type": "stream",
          "text": [
            "Requirement already satisfied: gensim==4.3.2 in /usr/local/lib/python3.11/dist-packages (4.3.2)\n",
            "Requirement already satisfied: numpy>=1.18.5 in /usr/local/lib/python3.11/dist-packages (from gensim==4.3.2) (1.25.2)\n",
            "Requirement already satisfied: scipy>=1.7.0 in /usr/local/lib/python3.11/dist-packages (from gensim==4.3.2) (1.9.3)\n",
            "Requirement already satisfied: smart-open>=1.8.1 in /usr/local/lib/python3.11/dist-packages (from gensim==4.3.2) (7.3.0.post1)\n",
            "Requirement already satisfied: wrapt in /usr/local/lib/python3.11/dist-packages (from smart-open>=1.8.1->gensim==4.3.2) (1.17.2)\n"
          ]
        }
      ],
      "source": [
        "!pip install gensim==4.3.2"
      ]
    },
    {
      "cell_type": "code",
      "execution_count": 4,
      "metadata": {
        "colab": {
          "base_uri": "https://localhost:8080/",
          "height": 602
        },
        "id": "WaknFG7UKY56",
        "outputId": "dcc052b7-969d-495c-8693-081eb2f0422d"
      },
      "outputs": [
        {
          "name": "stdout",
          "output_type": "stream",
          "text": [
            "Collecting numpy\n",
            "  Using cached numpy-2.3.2-cp311-cp311-manylinux_2_27_x86_64.manylinux_2_28_x86_64.whl.metadata (62 kB)\n",
            "Using cached numpy-2.3.2-cp311-cp311-manylinux_2_27_x86_64.manylinux_2_28_x86_64.whl (16.9 MB)\n",
            "Installing collected packages: numpy\n",
            "  Attempting uninstall: numpy\n",
            "    Found existing installation: numpy 1.25.2\n",
            "    Uninstalling numpy-1.25.2:\n",
            "      Successfully uninstalled numpy-1.25.2\n",
            "\u001b[31mERROR: pip's dependency resolver does not currently take into account all the packages that are installed. This behaviour is the source of the following dependency conflicts.\n",
            "scipy 1.9.3 requires numpy<1.26.0,>=1.18.5, but you have numpy 2.3.2 which is incompatible.\n",
            "jaxlib 0.5.1 requires scipy>=1.11.1, but you have scipy 1.9.3 which is incompatible.\n",
            "arviz 0.22.0 requires scipy>=1.11.0, but you have scipy 1.9.3 which is incompatible.\n",
            "jax 0.5.2 requires scipy>=1.11.1, but you have scipy 1.9.3 which is incompatible.\n",
            "opencv-python 4.12.0.88 requires numpy<2.3.0,>=2; python_version >= \"3.9\", but you have numpy 2.3.2 which is incompatible.\n",
            "cupy-cuda12x 13.3.0 requires numpy<2.3,>=1.22, but you have numpy 2.3.2 which is incompatible.\n",
            "scikit-image 0.25.2 requires scipy>=1.11.4, but you have scipy 1.9.3 which is incompatible.\n",
            "opencv-python-headless 4.12.0.88 requires numpy<2.3.0,>=2; python_version >= \"3.9\", but you have numpy 2.3.2 which is incompatible.\n",
            "cvxpy 1.6.7 requires scipy>=1.11.0, but you have scipy 1.9.3 which is incompatible.\n",
            "opencv-contrib-python 4.12.0.88 requires numpy<2.3.0,>=2; python_version >= \"3.9\", but you have numpy 2.3.2 which is incompatible.\n",
            "tensorflow 2.18.0 requires numpy<2.1.0,>=1.26.0, but you have numpy 2.3.2 which is incompatible.\n",
            "stumpy 1.13.0 requires scipy>=1.10, but you have scipy 1.9.3 which is incompatible.\n",
            "tsfresh 0.21.0 requires scipy>=1.14.0; python_version >= \"3.10\", but you have scipy 1.9.3 which is incompatible.\n",
            "numba 0.60.0 requires numpy<2.1,>=1.22, but you have numpy 2.3.2 which is incompatible.\n",
            "imbalanced-learn 0.13.0 requires scipy<2,>=1.10.1, but you have scipy 1.9.3 which is incompatible.\n",
            "xarray-einstats 0.9.1 requires scipy>=1.11, but you have scipy 1.9.3 which is incompatible.\n",
            "albumentations 2.0.8 requires scipy>=1.10.0, but you have scipy 1.9.3 which is incompatible.\u001b[0m\u001b[31m\n",
            "\u001b[0mSuccessfully installed numpy-2.3.2\n"
          ]
        },
        {
          "data": {
            "application/vnd.colab-display-data+json": {
              "id": "b4a1735c0e0c48d295b1fba5496a6f43",
              "pip_warning": {
                "packages": [
                  "numpy"
                ]
              }
            }
          },
          "metadata": {},
          "output_type": "display_data"
        }
      ],
      "source": [
        "!pip install --upgrade --force-reinstall numpy\n"
      ]
    },
    {
      "cell_type": "code",
      "execution_count": 5,
      "metadata": {
        "colab": {
          "base_uri": "https://localhost:8080/",
          "height": 758
        },
        "id": "d2slFJY1KgBH",
        "outputId": "966a90cc-b4a7-405c-8248-a95a989da2f8"
      },
      "outputs": [
        {
          "name": "stdout",
          "output_type": "stream",
          "text": [
            "Requirement already satisfied: numpy in /usr/local/lib/python3.11/dist-packages (2.3.2)\n",
            "Requirement already satisfied: gensim in /usr/local/lib/python3.11/dist-packages (4.3.2)\n",
            "Requirement already satisfied: scikit-learn in /usr/local/lib/python3.11/dist-packages (1.6.1)\n",
            "Requirement already satisfied: scipy>=1.7.0 in /usr/local/lib/python3.11/dist-packages (from gensim) (1.9.3)\n",
            "Requirement already satisfied: smart-open>=1.8.1 in /usr/local/lib/python3.11/dist-packages (from gensim) (7.3.0.post1)\n",
            "Requirement already satisfied: joblib>=1.2.0 in /usr/local/lib/python3.11/dist-packages (from scikit-learn) (1.5.1)\n",
            "Requirement already satisfied: threadpoolctl>=3.1.0 in /usr/local/lib/python3.11/dist-packages (from scikit-learn) (3.6.0)\n",
            "Collecting numpy\n",
            "  Using cached numpy-1.25.2-cp311-cp311-manylinux_2_17_x86_64.manylinux2014_x86_64.whl.metadata (5.6 kB)\n",
            "Requirement already satisfied: wrapt in /usr/local/lib/python3.11/dist-packages (from smart-open>=1.8.1->gensim) (1.17.2)\n",
            "Using cached numpy-1.25.2-cp311-cp311-manylinux_2_17_x86_64.manylinux2014_x86_64.whl (18.2 MB)\n",
            "Installing collected packages: numpy\n",
            "  Attempting uninstall: numpy\n",
            "    Found existing installation: numpy 2.3.2\n",
            "    Uninstalling numpy-2.3.2:\n",
            "      Successfully uninstalled numpy-2.3.2\n",
            "\u001b[31mERROR: pip's dependency resolver does not currently take into account all the packages that are installed. This behaviour is the source of the following dependency conflicts.\n",
            "jaxlib 0.5.1 requires scipy>=1.11.1, but you have scipy 1.9.3 which is incompatible.\n",
            "arviz 0.22.0 requires numpy>=1.26.0, but you have numpy 1.25.2 which is incompatible.\n",
            "arviz 0.22.0 requires scipy>=1.11.0, but you have scipy 1.9.3 which is incompatible.\n",
            "jax 0.5.2 requires scipy>=1.11.1, but you have scipy 1.9.3 which is incompatible.\n",
            "opencv-python 4.12.0.88 requires numpy<2.3.0,>=2; python_version >= \"3.9\", but you have numpy 1.25.2 which is incompatible.\n",
            "scikit-image 0.25.2 requires scipy>=1.11.4, but you have scipy 1.9.3 which is incompatible.\n",
            "opencv-python-headless 4.12.0.88 requires numpy<2.3.0,>=2; python_version >= \"3.9\", but you have numpy 1.25.2 which is incompatible.\n",
            "cvxpy 1.6.7 requires scipy>=1.11.0, but you have scipy 1.9.3 which is incompatible.\n",
            "opencv-contrib-python 4.12.0.88 requires numpy<2.3.0,>=2; python_version >= \"3.9\", but you have numpy 1.25.2 which is incompatible.\n",
            "tensorflow 2.18.0 requires numpy<2.1.0,>=1.26.0, but you have numpy 1.25.2 which is incompatible.\n",
            "stumpy 1.13.0 requires scipy>=1.10, but you have scipy 1.9.3 which is incompatible.\n",
            "tsfresh 0.21.0 requires scipy>=1.14.0; python_version >= \"3.10\", but you have scipy 1.9.3 which is incompatible.\n",
            "thinc 8.3.6 requires numpy<3.0.0,>=2.0.0, but you have numpy 1.25.2 which is incompatible.\n",
            "xarray 2025.7.1 requires numpy>=1.26, but you have numpy 1.25.2 which is incompatible.\n",
            "imbalanced-learn 0.13.0 requires scipy<2,>=1.10.1, but you have scipy 1.9.3 which is incompatible.\n",
            "xarray-einstats 0.9.1 requires scipy>=1.11, but you have scipy 1.9.3 which is incompatible.\n",
            "blosc2 3.6.1 requires numpy>=1.26, but you have numpy 1.25.2 which is incompatible.\n",
            "albumentations 2.0.8 requires scipy>=1.10.0, but you have scipy 1.9.3 which is incompatible.\u001b[0m\u001b[31m\n",
            "\u001b[0mSuccessfully installed numpy-1.25.2\n"
          ]
        },
        {
          "data": {
            "application/vnd.colab-display-data+json": {
              "id": "baff203e92cf439ab4bfbdc60d5368e1",
              "pip_warning": {
                "packages": [
                  "numpy"
                ]
              }
            }
          },
          "metadata": {},
          "output_type": "display_data"
        }
      ],
      "source": [
        "!pip install numpy gensim scikit-learn"
      ]
    },
    {
      "cell_type": "code",
      "execution_count": 6,
      "metadata": {
        "colab": {
          "base_uri": "https://localhost:8080/"
        },
        "id": "Lx0qQc9vOjb9",
        "outputId": "df676302-92e2-4a2c-c193-56145a38b1af"
      },
      "outputs": [
        {
          "name": "stdout",
          "output_type": "stream",
          "text": [
            "Reading package lists... Done\n",
            "Building dependency tree... Done\n",
            "Reading state information... Done\n",
            "\u001b[1;31mE: \u001b[0mUnable to locate package genism\u001b[0m\n",
            "\u001b[1;31mE: \u001b[0mUnable to locate package \u001b[0m\n"
          ]
        }
      ],
      "source": [
        "!apt install genism =4.3.2"
      ]
    },
    {
      "cell_type": "code",
      "execution_count": 7,
      "metadata": {
        "colab": {
          "base_uri": "https://localhost:8080/"
        },
        "id": "5Fv0yc76JvEo",
        "outputId": "60a8dfdb-59b8-42c9-89dd-dfbea14f721a"
      },
      "outputs": [
        {
          "name": "stdout",
          "output_type": "stream",
          "text": [
            "Downloading 'punkt' tokenizer...\n"
          ]
        },
        {
          "name": "stderr",
          "output_type": "stream",
          "text": [
            "[nltk_data] Downloading package punkt to /content/nltk_data...\n",
            "[nltk_data]   Unzipping tokenizers/punkt.zip.\n"
          ]
        },
        {
          "name": "stdout",
          "output_type": "stream",
          "text": [
            "Downloading 'punkt_tab' tokenizer...\n"
          ]
        },
        {
          "name": "stderr",
          "output_type": "stream",
          "text": [
            "[nltk_data] Downloading package punkt_tab to /content/nltk_data...\n",
            "[nltk_data]   Unzipping tokenizers/punkt_tab.zip.\n"
          ]
        },
        {
          "name": "stdout",
          "output_type": "stream",
          "text": [
            "NLTK Data Paths: ['/root/nltk_data', '/usr/nltk_data', '/usr/share/nltk_data', '/usr/lib/nltk_data', '/usr/share/nltk_data', '/usr/local/share/nltk_data', '/usr/lib/nltk_data', '/usr/local/lib/nltk_data', '/content/nltk_data']\n",
            "Contents of nltk_data: ['tokenizers']\n"
          ]
        }
      ],
      "source": [
        "import nltk\n",
        "from nltk.tokenize import word_tokenize\n",
        "from gensim.models import Word2Vec\n",
        "import re\n",
        "import os\n",
        "\n",
        "# Warning: This download will copy files to your home directory.\n",
        "# For example, on Linux, it will copy files to ~/.nltk_data.\n",
        "# In Windows, it will copy files to C:\\Users\\YourAccount\\AppData\\Roaming\n",
        "# nltk.download('punkt')\n",
        "\n",
        "# A better way to handle the download is to:\n",
        "# Ensure 'punkt' is available and nltk_data path is set\n",
        "nltk_data_path = os.path.join(os.getcwd(), 'nltk_data')\n",
        "print(\"Downloading 'punkt' tokenizer...\")\n",
        "nltk.download('punkt', download_dir=nltk_data_path, force=True)\n",
        "print(\"Downloading 'punkt_tab' tokenizer...\")\n",
        "nltk.download('punkt_tab', download_dir=nltk_data_path, force=True)\n",
        "\n",
        "# Always append the custom nltk_data path (if not already present)\n",
        "if nltk_data_path not in nltk.data.path:\n",
        "    nltk.data.path.append(nltk_data_path)\n",
        "\n",
        "# Debugging paths and contents\n",
        "print(\"NLTK Data Paths:\", nltk.data.path)\n",
        "print(\"Contents of nltk_data:\", os.listdir(nltk_data_path))"
      ]
    },
    {
      "cell_type": "code",
      "execution_count": 8,
      "metadata": {
        "colab": {
          "base_uri": "https://localhost:8080/"
        },
        "id": "rcpPCc49KER3",
        "outputId": "4719ce54-f764-4d19-f2d7-406d3dfa00b2"
      },
      "outputs": [
        {
          "name": "stdout",
          "output_type": "stream",
          "text": [
            "Requirement already satisfied: numpy in /usr/local/lib/python3.11/dist-packages (1.25.2)\n"
          ]
        }
      ],
      "source": [
        "!pip install numpy"
      ]
    },
    {
      "cell_type": "markdown",
      "metadata": {
        "id": "d8tXSJrHDW7m"
      },
      "source": [
        "## Step 3: Define and Preprocess the Corpus\n",
        "\n",
        "We define a small set of sentences (our corpus) and apply preprocessing:\n",
        "- Lowercasing\n",
        "- Removing punctuation\n",
        "- Tokenizing using NLTK's `word_tokenize`\n"
      ]
    },
    {
      "cell_type": "code",
      "execution_count": 9,
      "metadata": {
        "colab": {
          "base_uri": "https://localhost:8080/"
        },
        "id": "jCsW86kCxzK2",
        "outputId": "71b5633e-4732-4e02-c987-b27da4fa6f3a"
      },
      "outputs": [
        {
          "data": {
            "text/plain": [
              "[['artificial', 'intelligence', 'is', 'transforming', 'street', 'design', '.'],\n",
              " ['sidewalks',\n",
              "  'and',\n",
              "  'bike',\n",
              "  'lanes',\n",
              "  'are',\n",
              "  'essential',\n",
              "  'for',\n",
              "  'inclusive',\n",
              "  'mobility',\n",
              "  '.'],\n",
              " ['smart',\n",
              "  'cities',\n",
              "  'leverage',\n",
              "  'data',\n",
              "  'to',\n",
              "  'improve',\n",
              "  'pedestrian',\n",
              "  'safety',\n",
              "  '.'],\n",
              " ['computer',\n",
              "  'vision',\n",
              "  'models',\n",
              "  'detect',\n",
              "  'street',\n",
              "  'signs',\n",
              "  'and',\n",
              "  'traffic',\n",
              "  'signals',\n",
              "  '.'],\n",
              " ['urban',\n",
              "  'planning',\n",
              "  'needs',\n",
              "  'insights',\n",
              "  'from',\n",
              "  'machine',\n",
              "  'learning',\n",
              "  '.']]"
            ]
          },
          "execution_count": 9,
          "metadata": {},
          "output_type": "execute_result"
        }
      ],
      "source": [
        "corpus = [\n",
        "    \"Artificial intelligence is transforming street design.\",\n",
        "    \"Sidewalks and bike lanes are essential for inclusive mobility.\",\n",
        "    \"Smart cities leverage data to improve pedestrian safety.\",\n",
        "    \"Computer vision models detect street signs and traffic signals.\",\n",
        "    \"Urban planning needs insights from machine learning.\"\n",
        "]\n",
        "\n",
        "# Tokenize the sentences\n",
        "tokenized_corpus = [word_tokenize(sentence.lower()) for sentence in corpus]\n",
        "tokenized_corpus\n"
      ]
    },
    {
      "cell_type": "markdown",
      "metadata": {
        "id": "f3HIjKpOEOiG"
      },
      "source": [
        "Before training models like Word2Vec or GloVe, we clean and tokenize the raw text documents. This step includes:\n",
        "\n",
        "Lowercasing text\n",
        "\n",
        "Removing punctuation and non-alphabetic characters\n",
        "\n",
        "Tokenizing sentences into words\n",
        "\n",
        "Removing stopwords"
      ]
    },
    {
      "cell_type": "code",
      "execution_count": 10,
      "metadata": {
        "colab": {
          "base_uri": "https://localhost:8080/"
        },
        "id": "OmBfLc323o5r",
        "outputId": "880dbe26-365b-4b27-a293-0ec0f237d619"
      },
      "outputs": [
        {
          "name": "stdout",
          "output_type": "stream",
          "text": [
            "[['artificial', 'intelligence', 'is', 'transforming', 'street', 'design'], ['sidewalks', 'and', 'bike', 'lanes', 'are', 'essential', 'for', 'inclusive', 'mobility']]\n"
          ]
        }
      ],
      "source": [
        "def preprocess(text):\n",
        "    text = text.lower()\n",
        "    text = re.sub(r'[^a-zA-Z0-9\\s]', '', text)  # remove punctuation\n",
        "    tokens = word_tokenize(text)\n",
        "    return tokens\n",
        "\n",
        "corpus = [preprocess(sentence) for sentence in corpus]\n",
        "print(corpus[:2])"
      ]
    },
    {
      "cell_type": "markdown",
      "metadata": {
        "id": "Ezj0Yuf8EIiy"
      },
      "source": [
        "## Step 4: Train Word2Vec Model on the Custom Corpus\n",
        "\n",
        "We train a Word2Vec model using the skip-gram architecture (`sg=1`) to learn word embeddings from the preprocessed text.\n"
      ]
    },
    {
      "cell_type": "code",
      "execution_count": 11,
      "metadata": {
        "id": "U6m6Wz-K3-r2"
      },
      "outputs": [],
      "source": [
        "# vector_size = 100 → each word becomes a 100D vector\n",
        "# window = 5 → context window size\n",
        "# sg = 1 → skip-gram (sg=0 for CBOW)\n",
        "\n",
        "model_word2vec = Word2Vec(\n",
        "    sentences=corpus,\n",
        "    vector_size=100,\n",
        "    window=5,\n",
        "    min_count=1,\n",
        "    sg=1\n",
        ")"
      ]
    },
    {
      "cell_type": "markdown",
      "metadata": {
        "id": "Yb1NTjV4ESdx"
      },
      "source": [
        "## Step 5: Explore Word2Vec Embeddings\n",
        "\n",
        "We retrieve the vector for a specific word (`intelligence`) and print similar words based on cosine similarity from the trained model.\n"
      ]
    },
    {
      "cell_type": "code",
      "execution_count": 12,
      "metadata": {
        "colab": {
          "base_uri": "https://localhost:8080/"
        },
        "id": "tdjNc7fK4HCj",
        "outputId": "67754036-a3dc-440f-d489-2e3855029b32"
      },
      "outputs": [
        {
          "name": "stdout",
          "output_type": "stream",
          "text": [
            "Vector for 'intelligence':\n",
            " [ 1.30016683e-03 -9.80430283e-03  4.58776252e-03 -5.38222783e-04\n",
            "  6.33209571e-03  1.78347470e-03 -3.12979822e-03  7.75997294e-03\n",
            "  1.55466562e-03  5.52093989e-05 -4.61295387e-03 -8.45352374e-03\n",
            " -7.76683213e-03  8.67050979e-03 -8.92496016e-03  9.03471559e-03\n",
            " -9.28101782e-03 -2.76756298e-04 -1.90704700e-03 -8.93114600e-03\n",
            "  8.63005966e-03  6.77781366e-03  3.01943906e-03  4.83345287e-03\n",
            "  1.12190246e-04  9.42468084e-03  7.02128746e-03 -9.85372625e-03\n",
            " -4.43322072e-03 -1.29011157e-03  3.04772262e-03 -4.32395237e-03\n",
            "  1.44916656e-03 -7.84589909e-03  2.77807354e-03  4.70269192e-03\n",
            "  4.93731257e-03 -3.17570218e-03 -8.42704065e-03 -9.22061782e-03\n",
            " -7.22899451e-04 -7.32746487e-03 -6.81496272e-03  6.12000562e-03\n",
            "  7.17230327e-03  2.11741915e-03 -7.89940078e-03 -5.69898821e-03\n",
            "  8.05184525e-03  3.92084382e-03 -5.24047017e-03 -7.39190448e-03\n",
            "  7.71554711e-04  3.46375466e-03  2.07919348e-03  3.10080405e-03\n",
            " -5.62050007e-03 -9.88948625e-03 -7.02083716e-03  2.30308768e-04\n",
            "  4.61867917e-03  4.52630781e-03  1.87981245e-03  5.17067453e-03\n",
            " -1.05360748e-04  4.11416637e-03 -9.12324060e-03  7.70091172e-03\n",
            "  6.14747405e-03  5.12415636e-03  7.20666908e-03  8.43979698e-03\n",
            "  7.38695846e-04 -1.70386070e-03  5.18628338e-04 -9.31678060e-03\n",
            "  8.40621442e-03 -6.37993217e-03  8.42784252e-03 -4.24435502e-03\n",
            "  6.46842702e-04 -9.16416850e-03 -9.55856778e-03 -7.83681031e-03\n",
            " -7.73105631e-03  3.75581993e-04 -7.22646248e-03 -4.95021325e-03\n",
            " -5.27170673e-03 -4.28929785e-03  7.01231137e-03  4.82938997e-03\n",
            "  8.68277065e-03  7.09359162e-03 -5.69440611e-03  7.24079600e-03\n",
            " -9.29490291e-03 -2.58756871e-03 -7.75716640e-03  4.19260142e-03]\n"
          ]
        }
      ],
      "source": [
        "word = \"intelligence\"\n",
        "vector = model_word2vec.wv[word]\n",
        "print(f\"Vector for '{word}':\\n\", vector)"
      ]
    },
    {
      "cell_type": "code",
      "execution_count": 13,
      "metadata": {
        "colab": {
          "base_uri": "https://localhost:8080/"
        },
        "id": "IH88Ct7o4P55",
        "outputId": "5086d786-3d7f-4544-acbd-26dee7ed573a"
      },
      "outputs": [
        {
          "name": "stdout",
          "output_type": "stream",
          "text": [
            "Words similar to 'intelligence':\n",
            " [('street', 0.21887058019638062), ('for', 0.1747603565454483), ('inclusive', 0.16378048062324524), ('signs', 0.14205607771873474), ('smart', 0.10855304449796677), ('to', 0.10733939707279205), ('safety', 0.0989944338798523), ('models', 0.09036577492952347), ('is', 0.06558066606521606), ('data', 0.05943490192294121)]\n"
          ]
        }
      ],
      "source": [
        "similar = model_word2vec.wv.most_similar(word)\n",
        "print(f\"Words similar to '{word}':\\n\", similar)"
      ]
    },
    {
      "cell_type": "markdown",
      "metadata": {
        "id": "pGQN6WcZEW41"
      },
      "source": [
        "## Step 6: Load Pretrained GloVe Embeddings (50 Dimensions)\n",
        "\n",
        "We use Gensim to load pretrained GloVe vectors trained on Wikipedia and Gigaword. These vectors provide semantically meaningful embeddings for known vocabulary words.\n"
      ]
    },
    {
      "cell_type": "code",
      "execution_count": 14,
      "metadata": {
        "colab": {
          "base_uri": "https://localhost:8080/"
        },
        "id": "0hmujwzg549V",
        "outputId": "352c0a73-a21e-4e29-ae51-1a18735ffe13"
      },
      "outputs": [
        {
          "name": "stdout",
          "output_type": "stream",
          "text": [
            "[==================================================] 100.0% 66.0/66.0MB downloaded\n",
            "[('computers', 0.9165045022964478), ('software', 0.8814992904663086), ('technology', 0.852556049823761), ('electronic', 0.812586784362793), ('internet', 0.8060455322265625), ('computing', 0.802603542804718), ('devices', 0.8016185760498047), ('digital', 0.7991793751716614), ('applications', 0.7912740707397461), ('pc', 0.7883159518241882)]\n",
            "0.7839043\n"
          ]
        }
      ],
      "source": [
        "import gensim.downloader as api\n",
        "\n",
        "# Load pretrained GloVe vectors (50-dimensional)\n",
        "glove_vectors = api.load(\"glove-wiki-gigaword-50\")  # You can change to 100, 200, 300\n",
        "\n",
        "# Example usage\n",
        "print(glove_vectors.most_similar(\"computer\"))\n",
        "print(glove_vectors.similarity(\"king\", \"queen\"))"
      ]
    },
    {
      "cell_type": "markdown",
      "metadata": {
        "id": "xLGX__j4EcWf"
      },
      "source": [
        "## Step 7: Compute Sentence Embeddings by Averaging Word Vectors\n",
        "\n",
        "We compute a sentence embedding by averaging the vectors of the individual words in the sentence. This is a simple and efficient method for sentence-level representation.\n"
      ]
    },
    {
      "cell_type": "code",
      "execution_count": 15,
      "metadata": {
        "colab": {
          "base_uri": "https://localhost:8080/"
        },
        "id": "ZNFopGzyxcTo",
        "outputId": "cf5a2663-d660-4a46-ad92-5ac1bd1f6d39"
      },
      "outputs": [
        {
          "name": "stdout",
          "output_type": "stream",
          "text": [
            "3 (50,)\n"
          ]
        }
      ],
      "source": [
        "import numpy as np\n",
        "\n",
        "def get_sentence_vector(sentence, model):\n",
        "    words = sentence.lower().split()\n",
        "    word_vectors = [model[word] for word in words if word in model]\n",
        "\n",
        "    if not word_vectors:\n",
        "        return np.zeros(model.vector_size)\n",
        "\n",
        "    return np.mean(word_vectors, axis=0)\n",
        "\n",
        "# Example sentences\n",
        "sentences = [\n",
        "    \"The cat sat on the mat.\",\n",
        "    \"Artificial intelligence is transforming the world.\",\n",
        "    \"Dogs bark loudly at night.\"\n",
        "]\n",
        "\n",
        "# Vectorize all sentences\n",
        "sentence_vectors = [get_sentence_vector(s, glove_vectors) for s in sentences]\n",
        "\n",
        "# Print shape of vectors\n",
        "print(len(sentence_vectors), sentence_vectors[0].shape)"
      ]
    },
    {
      "cell_type": "markdown",
      "metadata": {
        "id": "g-DVC6E5Eg_3"
      },
      "source": [
        "## Step 8: Visualize Sentence Embeddings Using PCA\n",
        "\n",
        "We use Principal Component Analysis (PCA) to reduce the 50D sentence embeddings to 2D for visualization. This helps us explore semantic relationships between sentences.\n"
      ]
    },
    {
      "cell_type": "code",
      "execution_count": 16,
      "metadata": {
        "colab": {
          "base_uri": "https://localhost:8080/",
          "height": 564
        },
        "id": "p_TMc0IF7Ob5",
        "outputId": "2cbf4267-72af-4c33-e0e4-b7f592df328d"
      },
      "outputs": [
        {
          "data": {
            "image/png": "[encoded data removed]",
            "text/plain": [
              "<Figure size 800x600 with 1 Axes>"
            ]
          },
          "metadata": {},
          "output_type": "display_data"
        }
      ],
      "source": [
        "from sklearn.decomposition import PCA\n",
        "import matplotlib.pyplot as plt\n",
        "\n",
        "# Reduce to 2 dimensions\n",
        "pca = PCA(n_components=2)\n",
        "reduced_vectors = pca.fit_transform(sentence_vectors)\n",
        "\n",
        "# Plot\n",
        "plt.figure(figsize=(8, 6))\n",
        "for i, sentence in enumerate(sentences):\n",
        "    plt.scatter(reduced_vectors[i, 0], reduced_vectors[i, 1])\n",
        "    plt.text(reduced_vectors[i, 0] + 0.01, reduced_vectors[i, 1] + 0.01, sentence[:30], fontsize=9)\n",
        "\n",
        "plt.title(\"Sentence Embedding Visualization (PCA)\")\n",
        "plt.xlabel(\"PCA 1\")\n",
        "plt.ylabel(\"PCA 2\")\n",
        "plt.grid(True)\n",
        "plt.show()"
      ]
    },
    {
      "cell_type": "markdown",
      "metadata": {
        "id": "VZuo8o688nh1"
      },
      "source": [
        "## Step 9: Query-Based Semantic Similarity Search\n",
        "\n",
        "In the next step, we will:\n",
        "- Accept a user query\n",
        "- Convert it to a sentence embedding\n",
        "- Compare it with document sentence embeddings using cosine similarity\n",
        "- Retrieve the most relevant sentence(s)\n",
        "\n",
        "This forms the core of a simple **semantic search engine**.\n"
      ]
    },
    {
      "cell_type": "code",
      "execution_count": 17,
      "metadata": {
        "id": "DW0XcZEcA9O8"
      },
      "outputs": [],
      "source": [
        "from sklearn.metrics.pairwise import cosine_similarity\n",
        "\n",
        "def find_most_similar(query, sentence_vectors, sentences, model):\n",
        "    query_vector = get_sentence_vector(query, model).reshape(1, -1)\n",
        "    similarities = cosine_similarity(query_vector, sentence_vectors)[0]\n",
        "\n",
        "    top_idx = np.argmax(similarities)\n",
        "    return sentences[top_idx], similarities[top_idx]\n"
      ]
    },
    {
      "cell_type": "code",
      "execution_count": 18,
      "metadata": {
        "colab": {
          "base_uri": "https://localhost:8080/"
        },
        "id": "4GWgXpMUA-wq",
        "outputId": "7492384b-dbff-4677-e124-cfafe680d398"
      },
      "outputs": [
        {
          "name": "stdout",
          "output_type": "stream",
          "text": [
            "Query: How is AI changing city design?\n",
            "Most Similar Sentence: Artificial intelligence is transforming the world.\n",
            "Similarity Score: 0.846231\n"
          ]
        }
      ],
      "source": [
        "query = \"How is AI changing city design?\"\n",
        "most_similar_sentence, score = find_most_similar(query, sentence_vectors, sentences, glove_vectors)\n",
        "\n",
        "print(\"Query:\", query)\n",
        "print(\"Most Similar Sentence:\", most_similar_sentence)\n",
        "print(\"Similarity Score:\", score)\n"
      ]
    },
    {
      "cell_type": "markdown",
      "metadata": {
        "id": "YJxI3JBVF3fM"
      },
      "source": [
        "| Feature                        | **Word2Vec**                                                      | **GloVe**                                                                 | **Talking Point**                                                                                                                                      |\n",
        "| ------------------------------ | ----------------------------------------------------------------- | ------------------------------------------------------------------------- | ------------------------------------------------------------------------------------------------------------------------------------------------------ |\n",
        "| **Training Method**            | Predictive (uses context to predict a word via CBOW or skip-gram) | Count-based (factorizes a co-occurrence matrix)                           |  *Word2Vec learns representations from local context; GloVe captures global statistical information.*                                                |\n",
        "| **Context Sensitivity**        | Learns based on local window around each word                     | Learns from entire co-occurrence matrix                                   |  *GloVe may be more effective for general knowledge corpora with structured knowledge; Word2Vec can adapt better to conversational context.*         |\n",
        "| **Vector Meaning**             | Embedding reflects how a word is used in context                  | Embedding reflects how frequently two words appear together globally      |  *For similarity tasks like “How is AI changing city design?”, GloVe may relate “AI” and “city” better due to co-occurrence across document corpus.* |\n",
        "| **Performance on Similarity**  | Generally strong for syntactic similarity                         | Generally strong for semantic similarity                                  |  *If the task demands understanding deep, abstract relationships, GloVe may outperform Word2Vec.*                                                    |\n",
        "| **Out-of-Vocabulary Handling** | Poor (unless using fastText or similar extensions)                | Poor                                                                      |  *Consider integrating subword embeddings for unseen terms in real-time queries.*                                                                    |\n",
        "| **Pretrained Availability**    | Widely available in many languages                                | Also widely available; GloVe.6B, GloVe.42B, GloVe.840B                    |  *Using pretrained GloVe vectors can accelerate similarity tasks without needing large training data.*                                               |\n",
        "| **Interpretability**           | Embeddings are harder to interpret                                | Embedding differences are often interpretable |  *Use GloVe if interpretability of word vector arithmetic matters to your application (e.g., AI analogies in urban contexts).*                       |\n"
      ]
    }
  ],
  "metadata": {
    "colab": {
      "provenance": []
    },
    "kernelspec": {
      "display_name": "venv (3.13.3)",
      "language": "python",
      "name": "python3"
    },
    "language_info": {
      "name": "python",
      "version": "3.13.3"
    }
  },
  "nbformat": 4,
  "nbformat_minor": 0
}
